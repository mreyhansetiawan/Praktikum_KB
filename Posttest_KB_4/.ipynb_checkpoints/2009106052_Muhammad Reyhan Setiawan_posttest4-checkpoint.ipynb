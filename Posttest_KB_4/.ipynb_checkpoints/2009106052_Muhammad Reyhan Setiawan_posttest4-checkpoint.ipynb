{
 "cells": [
  {
   "cell_type": "markdown",
   "id": "185c470c",
   "metadata": {},
   "source": [
    "# POST TEST 4 PRAKTIKUM KB"
   ]
  },
  {
   "cell_type": "markdown",
   "id": "8bf318bd",
   "metadata": {},
   "source": [
    "Nama: Muhammad Reyhan Setiawan\n",
    "\n",
    "NIM: 2009106052"
   ]
  },
  {
   "cell_type": "markdown",
   "id": "46130199",
   "metadata": {},
   "source": [
    "# The Android App Market on Google Play Data Preprocessing"
   ]
  },
  {
   "cell_type": "markdown",
   "id": "3291b7b6",
   "metadata": {},
   "source": [
    "# Import Library Package"
   ]
  },
  {
   "cell_type": "markdown",
   "id": "22733690",
   "metadata": {},
   "source": [
    "Mengimpor library numpy sebagai np, pandas sebagai pd, dan berbagai sklearn untuk data preprocessing. Dan data sebagai df untuk membaca dataset"
   ]
  },
  {
   "cell_type": "code",
   "execution_count": 62,
   "id": "527d8088",
   "metadata": {},
   "outputs": [],
   "source": [
    "import numpy as np\n",
    "import pandas as pd\n",
    "from sklearn.model_selection import train_test_split\n",
    "from sklearn.preprocessing import MinMaxScaler\n",
    "from sklearn.preprocessing import StandardScaler\n",
    "from sklearn.impute import SimpleImputer\n",
    "from sklearn.preprocessing import OneHotEncoder"
   ]
  },
  {
   "cell_type": "markdown",
   "id": "2979f2d5",
   "metadata": {},
   "source": [
    "# Membaca Dataset"
   ]
  },
  {
   "cell_type": "markdown",
   "id": "bce85f1a",
   "metadata": {},
   "source": [
    "Dataset berupa file .csv (appsgoogleplay.csv)"
   ]
  },
  {
   "cell_type": "code",
   "execution_count": 63,
   "id": "53f06027",
   "metadata": {},
   "outputs": [],
   "source": [
    "df = pd.read_csv(\"appsgoogleplay.csv\")"
   ]
  },
  {
   "cell_type": "code",
   "execution_count": 64,
   "id": "4e001d3c",
   "metadata": {},
   "outputs": [
    {
     "data": {
      "text/html": [
       "<div>\n",
       "<style scoped>\n",
       "    .dataframe tbody tr th:only-of-type {\n",
       "        vertical-align: middle;\n",
       "    }\n",
       "\n",
       "    .dataframe tbody tr th {\n",
       "        vertical-align: top;\n",
       "    }\n",
       "\n",
       "    .dataframe thead th {\n",
       "        text-align: right;\n",
       "    }\n",
       "</style>\n",
       "<table border=\"1\" class=\"dataframe\">\n",
       "  <thead>\n",
       "    <tr style=\"text-align: right;\">\n",
       "      <th></th>\n",
       "      <th>App</th>\n",
       "      <th>Category</th>\n",
       "      <th>Rating</th>\n",
       "      <th>Reviews</th>\n",
       "      <th>Size</th>\n",
       "      <th>Installs</th>\n",
       "      <th>Type</th>\n",
       "      <th>Price</th>\n",
       "      <th>Last Updated</th>\n",
       "    </tr>\n",
       "  </thead>\n",
       "  <tbody>\n",
       "    <tr>\n",
       "      <th>0</th>\n",
       "      <td>Photo Editor &amp; Candy Camera &amp; Grid &amp; ScrapBook</td>\n",
       "      <td>ART_AND_DESIGN</td>\n",
       "      <td>4.1</td>\n",
       "      <td>159</td>\n",
       "      <td>19.0</td>\n",
       "      <td>10,000+</td>\n",
       "      <td>Free</td>\n",
       "      <td>0.0</td>\n",
       "      <td>January 7, 2018</td>\n",
       "    </tr>\n",
       "    <tr>\n",
       "      <th>1</th>\n",
       "      <td>Coloring book moana</td>\n",
       "      <td>ART_AND_DESIGN</td>\n",
       "      <td>3.9</td>\n",
       "      <td>967</td>\n",
       "      <td>14.0</td>\n",
       "      <td>500,000+</td>\n",
       "      <td>Free</td>\n",
       "      <td>0.0</td>\n",
       "      <td>January 15, 2018</td>\n",
       "    </tr>\n",
       "    <tr>\n",
       "      <th>2</th>\n",
       "      <td>U Launcher Lite – FREE Live Cool Themes, Hide ...</td>\n",
       "      <td>ART_AND_DESIGN</td>\n",
       "      <td>4.7</td>\n",
       "      <td>87510</td>\n",
       "      <td>8.7</td>\n",
       "      <td>5,000,000+</td>\n",
       "      <td>Free</td>\n",
       "      <td>0.0</td>\n",
       "      <td>August 1, 2018</td>\n",
       "    </tr>\n",
       "    <tr>\n",
       "      <th>3</th>\n",
       "      <td>Sketch - Draw &amp; Paint</td>\n",
       "      <td>ART_AND_DESIGN</td>\n",
       "      <td>4.5</td>\n",
       "      <td>215644</td>\n",
       "      <td>25.0</td>\n",
       "      <td>50,000,000+</td>\n",
       "      <td>Free</td>\n",
       "      <td>0.0</td>\n",
       "      <td>June 8, 2018</td>\n",
       "    </tr>\n",
       "    <tr>\n",
       "      <th>4</th>\n",
       "      <td>Pixel Draw - Number Art Coloring Book</td>\n",
       "      <td>ART_AND_DESIGN</td>\n",
       "      <td>4.3</td>\n",
       "      <td>967</td>\n",
       "      <td>2.8</td>\n",
       "      <td>100,000+</td>\n",
       "      <td>Free</td>\n",
       "      <td>0.0</td>\n",
       "      <td>June 20, 2018</td>\n",
       "    </tr>\n",
       "    <tr>\n",
       "      <th>...</th>\n",
       "      <td>...</td>\n",
       "      <td>...</td>\n",
       "      <td>...</td>\n",
       "      <td>...</td>\n",
       "      <td>...</td>\n",
       "      <td>...</td>\n",
       "      <td>...</td>\n",
       "      <td>...</td>\n",
       "      <td>...</td>\n",
       "    </tr>\n",
       "    <tr>\n",
       "      <th>9654</th>\n",
       "      <td>Sya9a Maroc - FR</td>\n",
       "      <td>FAMILY</td>\n",
       "      <td>4.5</td>\n",
       "      <td>38</td>\n",
       "      <td>53.0</td>\n",
       "      <td>5,000+</td>\n",
       "      <td>Free</td>\n",
       "      <td>0.0</td>\n",
       "      <td>July 25, 2017</td>\n",
       "    </tr>\n",
       "    <tr>\n",
       "      <th>9655</th>\n",
       "      <td>Fr. Mike Schmitz Audio Teachings</td>\n",
       "      <td>FAMILY</td>\n",
       "      <td>5.0</td>\n",
       "      <td>4</td>\n",
       "      <td>3.6</td>\n",
       "      <td>100+</td>\n",
       "      <td>Free</td>\n",
       "      <td>0.0</td>\n",
       "      <td>July 6, 2018</td>\n",
       "    </tr>\n",
       "    <tr>\n",
       "      <th>9656</th>\n",
       "      <td>Parkinson Exercices FR</td>\n",
       "      <td>MEDICAL</td>\n",
       "      <td>NaN</td>\n",
       "      <td>3</td>\n",
       "      <td>9.5</td>\n",
       "      <td>1,000+</td>\n",
       "      <td>Free</td>\n",
       "      <td>0.0</td>\n",
       "      <td>January 20, 2017</td>\n",
       "    </tr>\n",
       "    <tr>\n",
       "      <th>9657</th>\n",
       "      <td>The SCP Foundation DB fr nn5n</td>\n",
       "      <td>BOOKS_AND_REFERENCE</td>\n",
       "      <td>4.5</td>\n",
       "      <td>114</td>\n",
       "      <td>NaN</td>\n",
       "      <td>1,000+</td>\n",
       "      <td>Free</td>\n",
       "      <td>0.0</td>\n",
       "      <td>January 19, 2015</td>\n",
       "    </tr>\n",
       "    <tr>\n",
       "      <th>9658</th>\n",
       "      <td>iHoroscope - 2018 Daily Horoscope &amp; Astrology</td>\n",
       "      <td>LIFESTYLE</td>\n",
       "      <td>4.5</td>\n",
       "      <td>398307</td>\n",
       "      <td>19.0</td>\n",
       "      <td>10,000,000+</td>\n",
       "      <td>Free</td>\n",
       "      <td>0.0</td>\n",
       "      <td>July 25, 2018</td>\n",
       "    </tr>\n",
       "  </tbody>\n",
       "</table>\n",
       "<p>9659 rows × 9 columns</p>\n",
       "</div>"
      ],
      "text/plain": [
       "                                                    App             Category  \\\n",
       "0        Photo Editor & Candy Camera & Grid & ScrapBook       ART_AND_DESIGN   \n",
       "1                                   Coloring book moana       ART_AND_DESIGN   \n",
       "2     U Launcher Lite – FREE Live Cool Themes, Hide ...       ART_AND_DESIGN   \n",
       "3                                 Sketch - Draw & Paint       ART_AND_DESIGN   \n",
       "4                 Pixel Draw - Number Art Coloring Book       ART_AND_DESIGN   \n",
       "...                                                 ...                  ...   \n",
       "9654                                   Sya9a Maroc - FR               FAMILY   \n",
       "9655                   Fr. Mike Schmitz Audio Teachings               FAMILY   \n",
       "9656                             Parkinson Exercices FR              MEDICAL   \n",
       "9657                      The SCP Foundation DB fr nn5n  BOOKS_AND_REFERENCE   \n",
       "9658      iHoroscope - 2018 Daily Horoscope & Astrology            LIFESTYLE   \n",
       "\n",
       "      Rating  Reviews  Size     Installs  Type  Price      Last Updated  \n",
       "0        4.1      159  19.0      10,000+  Free    0.0   January 7, 2018  \n",
       "1        3.9      967  14.0     500,000+  Free    0.0  January 15, 2018  \n",
       "2        4.7    87510   8.7   5,000,000+  Free    0.0    August 1, 2018  \n",
       "3        4.5   215644  25.0  50,000,000+  Free    0.0      June 8, 2018  \n",
       "4        4.3      967   2.8     100,000+  Free    0.0     June 20, 2018  \n",
       "...      ...      ...   ...          ...   ...    ...               ...  \n",
       "9654     4.5       38  53.0       5,000+  Free    0.0     July 25, 2017  \n",
       "9655     5.0        4   3.6         100+  Free    0.0      July 6, 2018  \n",
       "9656     NaN        3   9.5       1,000+  Free    0.0  January 20, 2017  \n",
       "9657     4.5      114   NaN       1,000+  Free    0.0  January 19, 2015  \n",
       "9658     4.5   398307  19.0  10,000,000+  Free    0.0     July 25, 2018  \n",
       "\n",
       "[9659 rows x 9 columns]"
      ]
     },
     "execution_count": 64,
     "metadata": {},
     "output_type": "execute_result"
    }
   ],
   "source": [
    "df"
   ]
  },
  {
   "cell_type": "markdown",
   "id": "9af2af99",
   "metadata": {},
   "source": [
    "# Data Split"
   ]
  },
  {
   "cell_type": "markdown",
   "id": "7ca15115",
   "metadata": {},
   "source": [
    "#Subset Target dan Feature"
   ]
  },
  {
   "cell_type": "code",
   "execution_count": 65,
   "id": "98e2576c",
   "metadata": {},
   "outputs": [],
   "source": [
    "x = df.iloc[:,:-1]\n",
    "y = df.iloc[:,-1]"
   ]
  },
  {
   "cell_type": "markdown",
   "id": "b914c07d",
   "metadata": {},
   "source": [
    "Membagi dataset menjadi training set dan testing set dengan proporsi 70:30"
   ]
  },
  {
   "cell_type": "code",
   "execution_count": 66,
   "id": "e3613892",
   "metadata": {},
   "outputs": [],
   "source": [
    "x_train, x_test, y_train, y_test = train_test_split(x, y, test_size=0.3)"
   ]
  },
  {
   "cell_type": "markdown",
   "id": "e6c59f18",
   "metadata": {},
   "source": [
    "Melihat dimensi setelah displit"
   ]
  },
  {
   "cell_type": "code",
   "execution_count": 67,
   "id": "87d7b9d2",
   "metadata": {},
   "outputs": [
    {
     "name": "stdout",
     "output_type": "stream",
     "text": [
      "Dimensi x_train : (6761, 8)\n",
      "Dimensi x_test : (2898, 8)\n",
      "Dimensi y_train : (6761,)\n",
      "Dimensi y_test : (2898,)\n"
     ]
    }
   ],
   "source": [
    "print(\"Dimensi x_train :\", x_train.shape)\n",
    "print(\"Dimensi x_test :\", x_test.shape)\n",
    "print(\"Dimensi y_train :\", y_train.shape)\n",
    "print(\"Dimensi y_test :\", y_test.shape)"
   ]
  },
  {
   "cell_type": "markdown",
   "id": "5693f5e2",
   "metadata": {},
   "source": [
    "# Data Transforming"
   ]
  },
  {
   "cell_type": "markdown",
   "id": "83e4720c",
   "metadata": {},
   "source": [
    "Menormalisasi data pada attribute menggunakan Min Max Scaler"
   ]
  },
  {
   "cell_type": "code",
   "execution_count": 68,
   "id": "e55c2b08",
   "metadata": {},
   "outputs": [],
   "source": [
    "min_max_scaler = MinMaxScaler()"
   ]
  },
  {
   "cell_type": "markdown",
   "id": "aecdd7b2",
   "metadata": {},
   "source": [
    "Mencopy data df menjadi nd dan menampilan nama-nama kolomnya"
   ]
  },
  {
   "cell_type": "code",
   "execution_count": 69,
   "id": "147200a9",
   "metadata": {},
   "outputs": [
    {
     "data": {
      "text/plain": [
       "Index(['App', 'Category', 'Rating', 'Reviews', 'Size', 'Installs', 'Type',\n",
       "       'Price', 'Last Updated'],\n",
       "      dtype='object')"
      ]
     },
     "execution_count": 69,
     "metadata": {},
     "output_type": "execute_result"
    }
   ],
   "source": [
    "nd = df.copy()\n",
    "nd.columns"
   ]
  },
  {
   "cell_type": "markdown",
   "id": "9007b62e",
   "metadata": {},
   "source": [
    "Normalisasi 3 kolom yaitu Rating, Reviews, Size"
   ]
  },
  {
   "cell_type": "code",
   "execution_count": 70,
   "id": "52005a44",
   "metadata": {},
   "outputs": [],
   "source": [
    "scl = min_max_scaler.fit_transform(nd[[\"Rating\", \"Reviews\", \"Size\"]])"
   ]
  },
  {
   "cell_type": "markdown",
   "id": "9c73c660",
   "metadata": {},
   "source": [
    "Mengganti data frame dari hasil yang sudah dinormalisasikan tadi menjadi df2"
   ]
  },
  {
   "cell_type": "code",
   "execution_count": 71,
   "id": "5783b408",
   "metadata": {},
   "outputs": [],
   "source": [
    "df2 = pd.DataFrame(scl)"
   ]
  },
  {
   "cell_type": "markdown",
   "id": "899b0e2b",
   "metadata": {},
   "source": [
    "Menampilkan df2"
   ]
  },
  {
   "cell_type": "code",
   "execution_count": 72,
   "id": "b06fc37c",
   "metadata": {},
   "outputs": [
    {
     "data": {
      "text/html": [
       "<div>\n",
       "<style scoped>\n",
       "    .dataframe tbody tr th:only-of-type {\n",
       "        vertical-align: middle;\n",
       "    }\n",
       "\n",
       "    .dataframe tbody tr th {\n",
       "        vertical-align: top;\n",
       "    }\n",
       "\n",
       "    .dataframe thead th {\n",
       "        text-align: right;\n",
       "    }\n",
       "</style>\n",
       "<table border=\"1\" class=\"dataframe\">\n",
       "  <thead>\n",
       "    <tr style=\"text-align: right;\">\n",
       "      <th></th>\n",
       "      <th>0</th>\n",
       "      <th>1</th>\n",
       "      <th>2</th>\n",
       "    </tr>\n",
       "  </thead>\n",
       "  <tbody>\n",
       "    <tr>\n",
       "      <th>0</th>\n",
       "      <td>0.775</td>\n",
       "      <td>0.000002</td>\n",
       "      <td>0.190</td>\n",
       "    </tr>\n",
       "    <tr>\n",
       "      <th>1</th>\n",
       "      <td>0.725</td>\n",
       "      <td>0.000012</td>\n",
       "      <td>0.140</td>\n",
       "    </tr>\n",
       "    <tr>\n",
       "      <th>2</th>\n",
       "      <td>0.925</td>\n",
       "      <td>0.001120</td>\n",
       "      <td>0.087</td>\n",
       "    </tr>\n",
       "    <tr>\n",
       "      <th>3</th>\n",
       "      <td>0.875</td>\n",
       "      <td>0.002759</td>\n",
       "      <td>0.250</td>\n",
       "    </tr>\n",
       "    <tr>\n",
       "      <th>4</th>\n",
       "      <td>0.825</td>\n",
       "      <td>0.000012</td>\n",
       "      <td>0.028</td>\n",
       "    </tr>\n",
       "  </tbody>\n",
       "</table>\n",
       "</div>"
      ],
      "text/plain": [
       "       0         1      2\n",
       "0  0.775  0.000002  0.190\n",
       "1  0.725  0.000012  0.140\n",
       "2  0.925  0.001120  0.087\n",
       "3  0.875  0.002759  0.250\n",
       "4  0.825  0.000012  0.028"
      ]
     },
     "execution_count": 72,
     "metadata": {},
     "output_type": "execute_result"
    }
   ],
   "source": [
    "df2.head(5)"
   ]
  },
  {
   "cell_type": "markdown",
   "id": "7b33d4b9",
   "metadata": {},
   "source": [
    "Melihat nilai Min dan Max dari data setelah dinormalisasikan akan memiliki rentang [0, 1]"
   ]
  },
  {
   "cell_type": "code",
   "execution_count": 73,
   "id": "b93c00cd",
   "metadata": {},
   "outputs": [
    {
     "name": "stdout",
     "output_type": "stream",
     "text": [
      "Nilai min:\n",
      "0    0.0\n",
      "1    0.0\n",
      "2    0.0\n",
      "dtype: float64\n",
      "\n",
      "Nilai max:\n",
      "0    1.0\n",
      "1    1.0\n",
      "2    1.0\n",
      "dtype: float64\n"
     ]
    }
   ],
   "source": [
    "print(\"Nilai min:\")\n",
    "print(df2.min())\n",
    "print(\"\\nNilai max:\")\n",
    "print(df2.max())"
   ]
  },
  {
   "cell_type": "markdown",
   "id": "fd6f5dc6",
   "metadata": {},
   "source": [
    "Menstandardisasi data pada attribute menggunakan StandardScaler"
   ]
  },
  {
   "cell_type": "code",
   "execution_count": 74,
   "id": "23d9f9b3",
   "metadata": {},
   "outputs": [],
   "source": [
    "ss = StandardScaler()"
   ]
  },
  {
   "cell_type": "markdown",
   "id": "eebabe88",
   "metadata": {},
   "source": [
    "Mencopy data df menjadi data_std dan lakukan standardisasi data pada kolom Rating, Reviews, Size"
   ]
  },
  {
   "cell_type": "code",
   "execution_count": 75,
   "id": "82173f79",
   "metadata": {},
   "outputs": [],
   "source": [
    "data_std = df.copy()\n",
    "scaled_data = ss.fit_transform(data_std[[\"Rating\", \"Reviews\", \"Size\"]])"
   ]
  },
  {
   "cell_type": "markdown",
   "id": "e5d3fc37",
   "metadata": {},
   "source": [
    "Menampilkan standar deviasi setelah distandardiasi"
   ]
  },
  {
   "cell_type": "code",
   "execution_count": 76,
   "id": "17de306c",
   "metadata": {},
   "outputs": [
    {
     "name": "stdout",
     "output_type": "stream",
     "text": [
      "Nilai Setelah Standardisasi\n",
      "\n",
      "Standard Deviasi:  1.0\n"
     ]
    }
   ],
   "source": [
    "print(\"Nilai Setelah Standardisasi\\n\")\n",
    "print(\"Standard Deviasi: \", np.nanstd(scaled_data))"
   ]
  },
  {
   "cell_type": "markdown",
   "id": "067e1b27",
   "metadata": {},
   "source": [
    "Mengganti hasil standardisasi data tadi menjadi df untuk dibaca"
   ]
  },
  {
   "cell_type": "code",
   "execution_count": 77,
   "id": "554fbe5e",
   "metadata": {},
   "outputs": [],
   "source": [
    "df_std = pd.DataFrame(scaled_data)"
   ]
  },
  {
   "cell_type": "code",
   "execution_count": 78,
   "id": "cc9a4800",
   "metadata": {},
   "outputs": [
    {
     "data": {
      "text/html": [
       "<div>\n",
       "<style scoped>\n",
       "    .dataframe tbody tr th:only-of-type {\n",
       "        vertical-align: middle;\n",
       "    }\n",
       "\n",
       "    .dataframe tbody tr th {\n",
       "        vertical-align: top;\n",
       "    }\n",
       "\n",
       "    .dataframe thead th {\n",
       "        text-align: right;\n",
       "    }\n",
       "</style>\n",
       "<table border=\"1\" class=\"dataframe\">\n",
       "  <thead>\n",
       "    <tr style=\"text-align: right;\">\n",
       "      <th></th>\n",
       "      <th>0</th>\n",
       "      <th>1</th>\n",
       "      <th>2</th>\n",
       "    </tr>\n",
       "  </thead>\n",
       "  <tbody>\n",
       "    <tr>\n",
       "      <th>0</th>\n",
       "      <td>-0.136497</td>\n",
       "      <td>-0.118191</td>\n",
       "      <td>-0.063929</td>\n",
       "    </tr>\n",
       "    <tr>\n",
       "      <th>1</th>\n",
       "      <td>-0.509219</td>\n",
       "      <td>-0.117749</td>\n",
       "      <td>-0.293011</td>\n",
       "    </tr>\n",
       "    <tr>\n",
       "      <th>2</th>\n",
       "      <td>0.981671</td>\n",
       "      <td>-0.070490</td>\n",
       "      <td>-0.535839</td>\n",
       "    </tr>\n",
       "    <tr>\n",
       "      <th>3</th>\n",
       "      <td>0.608949</td>\n",
       "      <td>-0.000518</td>\n",
       "      <td>0.210970</td>\n",
       "    </tr>\n",
       "    <tr>\n",
       "      <th>4</th>\n",
       "      <td>0.236226</td>\n",
       "      <td>-0.117749</td>\n",
       "      <td>-0.806156</td>\n",
       "    </tr>\n",
       "  </tbody>\n",
       "</table>\n",
       "</div>"
      ],
      "text/plain": [
       "          0         1         2\n",
       "0 -0.136497 -0.118191 -0.063929\n",
       "1 -0.509219 -0.117749 -0.293011\n",
       "2  0.981671 -0.070490 -0.535839\n",
       "3  0.608949 -0.000518  0.210970\n",
       "4  0.236226 -0.117749 -0.806156"
      ]
     },
     "execution_count": 78,
     "metadata": {},
     "output_type": "execute_result"
    }
   ],
   "source": [
    "df_std.head(5)"
   ]
  },
  {
   "cell_type": "markdown",
   "id": "67a2b898",
   "metadata": {},
   "source": [
    "# Data Cleaning"
   ]
  },
  {
   "cell_type": "markdown",
   "id": "7996cca2",
   "metadata": {},
   "source": [
    "Melihat beberapa kolom yang memiliki nilai null"
   ]
  },
  {
   "cell_type": "code",
   "execution_count": 79,
   "id": "79abf824",
   "metadata": {},
   "outputs": [
    {
     "data": {
      "text/plain": [
       "App                0\n",
       "Category           0\n",
       "Rating          1463\n",
       "Reviews            0\n",
       "Size            1227\n",
       "Installs           0\n",
       "Type               0\n",
       "Price              0\n",
       "Last Updated       0\n",
       "dtype: int64"
      ]
     },
     "execution_count": 79,
     "metadata": {},
     "output_type": "execute_result"
    }
   ],
   "source": [
    "df.isna().sum()"
   ]
  },
  {
   "cell_type": "markdown",
   "id": "94872964",
   "metadata": {},
   "source": [
    "Karena yang memiliki null hanya ada pada kolom Rating dan Size yang termasuk tipe data float maka mengganti nilai null sesuai ketentuan yaitu dengan strategy mean"
   ]
  },
  {
   "cell_type": "code",
   "execution_count": 82,
   "id": "8abaf577",
   "metadata": {},
   "outputs": [],
   "source": [
    "imputer_mean = SimpleImputer(strategy=\"mean\")"
   ]
  },
  {
   "cell_type": "code",
   "execution_count": 83,
   "id": "3319ba7f",
   "metadata": {},
   "outputs": [],
   "source": [
    "df[\"Rating\"] = imputer_mean.fit_transform(df[[\"Rating\"]])\n",
    "df[\"Size\"] = imputer_mean.fit_transform(df[[\"Size\"]])"
   ]
  },
  {
   "cell_type": "markdown",
   "id": "6c5c7ebe",
   "metadata": {},
   "source": [
    "Melihat lagi beberapa kolom yang sudah dicleaning nilai nullnya"
   ]
  },
  {
   "cell_type": "code",
   "execution_count": 84,
   "id": "c8aeaa4d",
   "metadata": {},
   "outputs": [
    {
     "data": {
      "text/plain": [
       "App             0\n",
       "Category        0\n",
       "Rating          0\n",
       "Reviews         0\n",
       "Size            0\n",
       "Installs        0\n",
       "Type            0\n",
       "Price           0\n",
       "Last Updated    0\n",
       "dtype: int64"
      ]
     },
     "execution_count": 84,
     "metadata": {},
     "output_type": "execute_result"
    }
   ],
   "source": [
    "df.isna().sum()"
   ]
  },
  {
   "cell_type": "markdown",
   "id": "e594cd2e",
   "metadata": {},
   "source": [
    "Melihat beberapa baris yang terdapat data duplikat pada dataset."
   ]
  },
  {
   "cell_type": "code",
   "execution_count": 85,
   "id": "69032149",
   "metadata": {},
   "outputs": [
    {
     "data": {
      "text/plain": [
       "5"
      ]
     },
     "execution_count": 85,
     "metadata": {},
     "output_type": "execute_result"
    }
   ],
   "source": [
    "df.duplicated().sum()"
   ]
  },
  {
   "cell_type": "markdown",
   "id": "e9118dbb",
   "metadata": {},
   "source": [
    "Cleaning data yang duplikat"
   ]
  },
  {
   "cell_type": "code",
   "execution_count": 86,
   "id": "3f24a07a",
   "metadata": {},
   "outputs": [],
   "source": [
    "df.drop_duplicates(inplace=True)"
   ]
  },
  {
   "cell_type": "markdown",
   "id": "65c4987a",
   "metadata": {},
   "source": [
    "Melihat lagi beberapa kolom yang sudah dicleaning nilai nullnya"
   ]
  },
  {
   "cell_type": "code",
   "execution_count": 87,
   "id": "f3c2fc75",
   "metadata": {},
   "outputs": [
    {
     "data": {
      "text/plain": [
       "0"
      ]
     },
     "execution_count": 87,
     "metadata": {},
     "output_type": "execute_result"
    }
   ],
   "source": [
    "df.duplicated().sum()"
   ]
  },
  {
   "cell_type": "markdown",
   "id": "5c62cb11",
   "metadata": {},
   "source": [
    "Melihat tipe data pada kolom"
   ]
  },
  {
   "cell_type": "code",
   "execution_count": 88,
   "id": "6028bfe8",
   "metadata": {},
   "outputs": [
    {
     "data": {
      "text/plain": [
       "App              object\n",
       "Category         object\n",
       "Rating          float64\n",
       "Reviews           int64\n",
       "Size            float64\n",
       "Installs         object\n",
       "Type             object\n",
       "Price           float64\n",
       "Last Updated     object\n",
       "dtype: object"
      ]
     },
     "execution_count": 88,
     "metadata": {},
     "output_type": "execute_result"
    }
   ],
   "source": [
    "df.dtypes"
   ]
  },
  {
   "cell_type": "markdown",
   "id": "f1c5d790",
   "metadata": {},
   "source": [
    "Mengganti tipe data pada kolom Reviews yang awalnya bilangan bulat atau int menjadi bilangan desimal atau float"
   ]
  },
  {
   "cell_type": "code",
   "execution_count": 89,
   "id": "a2335af5",
   "metadata": {},
   "outputs": [],
   "source": [
    "df[\"Reviews\"] = df[\"Reviews\"].astype(\"object\")"
   ]
  },
  {
   "cell_type": "markdown",
   "id": "b14529a9",
   "metadata": {},
   "source": [
    "Melihat kembali tipe data pada semua kolom yang baru"
   ]
  },
  {
   "cell_type": "code",
   "execution_count": 90,
   "id": "10686e75",
   "metadata": {},
   "outputs": [
    {
     "data": {
      "text/plain": [
       "App              object\n",
       "Category         object\n",
       "Rating          float64\n",
       "Reviews          object\n",
       "Size            float64\n",
       "Installs         object\n",
       "Type             object\n",
       "Price           float64\n",
       "Last Updated     object\n",
       "dtype: object"
      ]
     },
     "execution_count": 90,
     "metadata": {},
     "output_type": "execute_result"
    }
   ],
   "source": [
    "df.dtypes"
   ]
  },
  {
   "cell_type": "markdown",
   "id": "46026d80",
   "metadata": {},
   "source": [
    "# Encoding"
   ]
  },
  {
   "cell_type": "markdown",
   "id": "10d3bcae",
   "metadata": {},
   "source": [
    "#One-Hot Encoding"
   ]
  },
  {
   "cell_type": "markdown",
   "id": "b2cecc66",
   "metadata": {},
   "source": [
    "Mendeklarasi kelas OneHotEncoder dan lakukan transformasi pada kolom yang ingin diubah"
   ]
  },
  {
   "cell_type": "code",
   "execution_count": 91,
   "id": "79de3266",
   "metadata": {},
   "outputs": [],
   "source": [
    "encoder = OneHotEncoder(sparse=False)"
   ]
  },
  {
   "cell_type": "markdown",
   "id": "4d5d64f5",
   "metadata": {},
   "source": [
    "Melakukan One-Hot encoding pada kolom Category"
   ]
  },
  {
   "cell_type": "code",
   "execution_count": 92,
   "id": "a97026b1",
   "metadata": {},
   "outputs": [],
   "source": [
    "kategoriEnc = encoder.fit_transform(df[[\"Category\"]])"
   ]
  },
  {
   "cell_type": "markdown",
   "id": "69b11473",
   "metadata": {},
   "source": [
    "Ubah tipenya menjadi DataFrame"
   ]
  },
  {
   "cell_type": "code",
   "execution_count": 93,
   "id": "517ea057",
   "metadata": {},
   "outputs": [],
   "source": [
    "kategoriEnc = pd.DataFrame(kategoriEnc)"
   ]
  },
  {
   "cell_type": "markdown",
   "id": "64ba1d4f",
   "metadata": {},
   "source": [
    "Melakukan join pada df untuk menggabungkan kolom hasil One-Hot Encoding dengan DataFrame yang dibuat tadi"
   ]
  },
  {
   "cell_type": "code",
   "execution_count": 94,
   "id": "ff8b2415",
   "metadata": {},
   "outputs": [],
   "source": [
    "df = df.join(kategoriEnc)"
   ]
  },
  {
   "cell_type": "markdown",
   "id": "f47d63d7",
   "metadata": {},
   "source": [
    "Menampilkan DataFrame setelah join"
   ]
  },
  {
   "cell_type": "code",
   "execution_count": 95,
   "id": "39b25bb1",
   "metadata": {},
   "outputs": [
    {
     "data": {
      "text/html": [
       "<div>\n",
       "<style scoped>\n",
       "    .dataframe tbody tr th:only-of-type {\n",
       "        vertical-align: middle;\n",
       "    }\n",
       "\n",
       "    .dataframe tbody tr th {\n",
       "        vertical-align: top;\n",
       "    }\n",
       "\n",
       "    .dataframe thead th {\n",
       "        text-align: right;\n",
       "    }\n",
       "</style>\n",
       "<table border=\"1\" class=\"dataframe\">\n",
       "  <thead>\n",
       "    <tr style=\"text-align: right;\">\n",
       "      <th></th>\n",
       "      <th>App</th>\n",
       "      <th>Category</th>\n",
       "      <th>Rating</th>\n",
       "      <th>Reviews</th>\n",
       "      <th>Size</th>\n",
       "      <th>Installs</th>\n",
       "      <th>Type</th>\n",
       "      <th>Price</th>\n",
       "      <th>Last Updated</th>\n",
       "      <th>0</th>\n",
       "      <th>...</th>\n",
       "      <th>23</th>\n",
       "      <th>24</th>\n",
       "      <th>25</th>\n",
       "      <th>26</th>\n",
       "      <th>27</th>\n",
       "      <th>28</th>\n",
       "      <th>29</th>\n",
       "      <th>30</th>\n",
       "      <th>31</th>\n",
       "      <th>32</th>\n",
       "    </tr>\n",
       "  </thead>\n",
       "  <tbody>\n",
       "    <tr>\n",
       "      <th>0</th>\n",
       "      <td>Photo Editor &amp; Candy Camera &amp; Grid &amp; ScrapBook</td>\n",
       "      <td>ART_AND_DESIGN</td>\n",
       "      <td>4.1</td>\n",
       "      <td>159</td>\n",
       "      <td>19.0</td>\n",
       "      <td>10,000+</td>\n",
       "      <td>Free</td>\n",
       "      <td>0.0</td>\n",
       "      <td>January 7, 2018</td>\n",
       "      <td>1.0</td>\n",
       "      <td>...</td>\n",
       "      <td>0.0</td>\n",
       "      <td>0.0</td>\n",
       "      <td>0.0</td>\n",
       "      <td>0.0</td>\n",
       "      <td>0.0</td>\n",
       "      <td>0.0</td>\n",
       "      <td>0.0</td>\n",
       "      <td>0.0</td>\n",
       "      <td>0.0</td>\n",
       "      <td>0.0</td>\n",
       "    </tr>\n",
       "    <tr>\n",
       "      <th>1</th>\n",
       "      <td>Coloring book moana</td>\n",
       "      <td>ART_AND_DESIGN</td>\n",
       "      <td>3.9</td>\n",
       "      <td>967</td>\n",
       "      <td>14.0</td>\n",
       "      <td>500,000+</td>\n",
       "      <td>Free</td>\n",
       "      <td>0.0</td>\n",
       "      <td>January 15, 2018</td>\n",
       "      <td>1.0</td>\n",
       "      <td>...</td>\n",
       "      <td>0.0</td>\n",
       "      <td>0.0</td>\n",
       "      <td>0.0</td>\n",
       "      <td>0.0</td>\n",
       "      <td>0.0</td>\n",
       "      <td>0.0</td>\n",
       "      <td>0.0</td>\n",
       "      <td>0.0</td>\n",
       "      <td>0.0</td>\n",
       "      <td>0.0</td>\n",
       "    </tr>\n",
       "    <tr>\n",
       "      <th>2</th>\n",
       "      <td>U Launcher Lite – FREE Live Cool Themes, Hide ...</td>\n",
       "      <td>ART_AND_DESIGN</td>\n",
       "      <td>4.7</td>\n",
       "      <td>87510</td>\n",
       "      <td>8.7</td>\n",
       "      <td>5,000,000+</td>\n",
       "      <td>Free</td>\n",
       "      <td>0.0</td>\n",
       "      <td>August 1, 2018</td>\n",
       "      <td>1.0</td>\n",
       "      <td>...</td>\n",
       "      <td>0.0</td>\n",
       "      <td>0.0</td>\n",
       "      <td>0.0</td>\n",
       "      <td>0.0</td>\n",
       "      <td>0.0</td>\n",
       "      <td>0.0</td>\n",
       "      <td>0.0</td>\n",
       "      <td>0.0</td>\n",
       "      <td>0.0</td>\n",
       "      <td>0.0</td>\n",
       "    </tr>\n",
       "    <tr>\n",
       "      <th>3</th>\n",
       "      <td>Sketch - Draw &amp; Paint</td>\n",
       "      <td>ART_AND_DESIGN</td>\n",
       "      <td>4.5</td>\n",
       "      <td>215644</td>\n",
       "      <td>25.0</td>\n",
       "      <td>50,000,000+</td>\n",
       "      <td>Free</td>\n",
       "      <td>0.0</td>\n",
       "      <td>June 8, 2018</td>\n",
       "      <td>1.0</td>\n",
       "      <td>...</td>\n",
       "      <td>0.0</td>\n",
       "      <td>0.0</td>\n",
       "      <td>0.0</td>\n",
       "      <td>0.0</td>\n",
       "      <td>0.0</td>\n",
       "      <td>0.0</td>\n",
       "      <td>0.0</td>\n",
       "      <td>0.0</td>\n",
       "      <td>0.0</td>\n",
       "      <td>0.0</td>\n",
       "    </tr>\n",
       "    <tr>\n",
       "      <th>4</th>\n",
       "      <td>Pixel Draw - Number Art Coloring Book</td>\n",
       "      <td>ART_AND_DESIGN</td>\n",
       "      <td>4.3</td>\n",
       "      <td>967</td>\n",
       "      <td>2.8</td>\n",
       "      <td>100,000+</td>\n",
       "      <td>Free</td>\n",
       "      <td>0.0</td>\n",
       "      <td>June 20, 2018</td>\n",
       "      <td>1.0</td>\n",
       "      <td>...</td>\n",
       "      <td>0.0</td>\n",
       "      <td>0.0</td>\n",
       "      <td>0.0</td>\n",
       "      <td>0.0</td>\n",
       "      <td>0.0</td>\n",
       "      <td>0.0</td>\n",
       "      <td>0.0</td>\n",
       "      <td>0.0</td>\n",
       "      <td>0.0</td>\n",
       "      <td>0.0</td>\n",
       "    </tr>\n",
       "  </tbody>\n",
       "</table>\n",
       "<p>5 rows × 42 columns</p>\n",
       "</div>"
      ],
      "text/plain": [
       "                                                 App        Category  Rating  \\\n",
       "0     Photo Editor & Candy Camera & Grid & ScrapBook  ART_AND_DESIGN     4.1   \n",
       "1                                Coloring book moana  ART_AND_DESIGN     3.9   \n",
       "2  U Launcher Lite – FREE Live Cool Themes, Hide ...  ART_AND_DESIGN     4.7   \n",
       "3                              Sketch - Draw & Paint  ART_AND_DESIGN     4.5   \n",
       "4              Pixel Draw - Number Art Coloring Book  ART_AND_DESIGN     4.3   \n",
       "\n",
       "  Reviews  Size     Installs  Type  Price      Last Updated    0  ...   23  \\\n",
       "0     159  19.0      10,000+  Free    0.0   January 7, 2018  1.0  ...  0.0   \n",
       "1     967  14.0     500,000+  Free    0.0  January 15, 2018  1.0  ...  0.0   \n",
       "2   87510   8.7   5,000,000+  Free    0.0    August 1, 2018  1.0  ...  0.0   \n",
       "3  215644  25.0  50,000,000+  Free    0.0      June 8, 2018  1.0  ...  0.0   \n",
       "4     967   2.8     100,000+  Free    0.0     June 20, 2018  1.0  ...  0.0   \n",
       "\n",
       "    24   25   26   27   28   29   30   31   32  \n",
       "0  0.0  0.0  0.0  0.0  0.0  0.0  0.0  0.0  0.0  \n",
       "1  0.0  0.0  0.0  0.0  0.0  0.0  0.0  0.0  0.0  \n",
       "2  0.0  0.0  0.0  0.0  0.0  0.0  0.0  0.0  0.0  \n",
       "3  0.0  0.0  0.0  0.0  0.0  0.0  0.0  0.0  0.0  \n",
       "4  0.0  0.0  0.0  0.0  0.0  0.0  0.0  0.0  0.0  \n",
       "\n",
       "[5 rows x 42 columns]"
      ]
     },
     "execution_count": 95,
     "metadata": {},
     "output_type": "execute_result"
    }
   ],
   "source": [
    "df.head(5)"
   ]
  }
 ],
 "metadata": {
  "kernelspec": {
   "display_name": "Python 3 (ipykernel)",
   "language": "python",
   "name": "python3"
  },
  "language_info": {
   "codemirror_mode": {
    "name": "ipython",
    "version": 3
   },
   "file_extension": ".py",
   "mimetype": "text/x-python",
   "name": "python",
   "nbconvert_exporter": "python",
   "pygments_lexer": "ipython3",
   "version": "3.10.7"
  }
 },
 "nbformat": 4,
 "nbformat_minor": 5
}
