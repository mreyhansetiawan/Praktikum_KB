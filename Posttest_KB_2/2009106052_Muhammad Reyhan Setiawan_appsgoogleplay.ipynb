{
 "cells": [
  {
   "cell_type": "markdown",
   "id": "6e1d6931",
   "metadata": {},
   "source": [
    "# POST TEST 2 PRAKTIKUM KB"
   ]
  },
  {
   "cell_type": "markdown",
   "id": "5c21b2b5",
   "metadata": {},
   "source": [
    "# The Android App Market on Google Play Datasets"
   ]
  },
  {
   "cell_type": "markdown",
   "id": "ad1e8895",
   "metadata": {},
   "source": [
    "# Import Library Pandas Package"
   ]
  },
  {
   "cell_type": "markdown",
   "id": "98595bd0",
   "metadata": {},
   "source": [
    "Mengimpor library pandas sebagai pd dan dataframe sebagai df untuk membaca dataset"
   ]
  },
  {
   "cell_type": "code",
   "execution_count": 1,
   "id": "2cee477c",
   "metadata": {},
   "outputs": [],
   "source": [
    "import pandas as pd"
   ]
  },
  {
   "cell_type": "code",
   "execution_count": 2,
   "id": "66db2856",
   "metadata": {},
   "outputs": [],
   "source": [
    "df = pd.read_csv(\"appsgoogleplay.csv\")"
   ]
  },
  {
   "cell_type": "markdown",
   "id": "367e46b9",
   "metadata": {},
   "source": [
    "# Membaca Dataset"
   ]
  },
  {
   "cell_type": "markdown",
   "id": "e35ece1f",
   "metadata": {},
   "source": [
    "Dataset berupa file .csv (appsgoogleplay.csv)"
   ]
  },
  {
   "cell_type": "code",
   "execution_count": 3,
   "id": "dc9a9060",
   "metadata": {},
   "outputs": [
    {
     "data": {
      "text/html": [
       "<div>\n",
       "<style scoped>\n",
       "    .dataframe tbody tr th:only-of-type {\n",
       "        vertical-align: middle;\n",
       "    }\n",
       "\n",
       "    .dataframe tbody tr th {\n",
       "        vertical-align: top;\n",
       "    }\n",
       "\n",
       "    .dataframe thead th {\n",
       "        text-align: right;\n",
       "    }\n",
       "</style>\n",
       "<table border=\"1\" class=\"dataframe\">\n",
       "  <thead>\n",
       "    <tr style=\"text-align: right;\">\n",
       "      <th></th>\n",
       "      <th>App</th>\n",
       "      <th>Category</th>\n",
       "      <th>Rating</th>\n",
       "      <th>Reviews</th>\n",
       "      <th>Size</th>\n",
       "      <th>Installs</th>\n",
       "      <th>Type</th>\n",
       "      <th>Price</th>\n",
       "      <th>Last Updated</th>\n",
       "    </tr>\n",
       "  </thead>\n",
       "  <tbody>\n",
       "    <tr>\n",
       "      <th>0</th>\n",
       "      <td>Photo Editor &amp; Candy Camera &amp; Grid &amp; ScrapBook</td>\n",
       "      <td>ART_AND_DESIGN</td>\n",
       "      <td>4.1</td>\n",
       "      <td>159</td>\n",
       "      <td>19.0</td>\n",
       "      <td>10,000+</td>\n",
       "      <td>Free</td>\n",
       "      <td>0.0</td>\n",
       "      <td>January 7, 2018</td>\n",
       "    </tr>\n",
       "    <tr>\n",
       "      <th>1</th>\n",
       "      <td>Coloring book moana</td>\n",
       "      <td>ART_AND_DESIGN</td>\n",
       "      <td>3.9</td>\n",
       "      <td>967</td>\n",
       "      <td>14.0</td>\n",
       "      <td>500,000+</td>\n",
       "      <td>Free</td>\n",
       "      <td>0.0</td>\n",
       "      <td>January 15, 2018</td>\n",
       "    </tr>\n",
       "    <tr>\n",
       "      <th>2</th>\n",
       "      <td>U Launcher Lite – FREE Live Cool Themes, Hide ...</td>\n",
       "      <td>ART_AND_DESIGN</td>\n",
       "      <td>4.7</td>\n",
       "      <td>87510</td>\n",
       "      <td>8.7</td>\n",
       "      <td>5,000,000+</td>\n",
       "      <td>Free</td>\n",
       "      <td>0.0</td>\n",
       "      <td>August 1, 2018</td>\n",
       "    </tr>\n",
       "    <tr>\n",
       "      <th>3</th>\n",
       "      <td>Sketch - Draw &amp; Paint</td>\n",
       "      <td>ART_AND_DESIGN</td>\n",
       "      <td>4.5</td>\n",
       "      <td>215644</td>\n",
       "      <td>25.0</td>\n",
       "      <td>50,000,000+</td>\n",
       "      <td>Free</td>\n",
       "      <td>0.0</td>\n",
       "      <td>June 8, 2018</td>\n",
       "    </tr>\n",
       "    <tr>\n",
       "      <th>4</th>\n",
       "      <td>Pixel Draw - Number Art Coloring Book</td>\n",
       "      <td>ART_AND_DESIGN</td>\n",
       "      <td>4.3</td>\n",
       "      <td>967</td>\n",
       "      <td>2.8</td>\n",
       "      <td>100,000+</td>\n",
       "      <td>Free</td>\n",
       "      <td>0.0</td>\n",
       "      <td>June 20, 2018</td>\n",
       "    </tr>\n",
       "    <tr>\n",
       "      <th>...</th>\n",
       "      <td>...</td>\n",
       "      <td>...</td>\n",
       "      <td>...</td>\n",
       "      <td>...</td>\n",
       "      <td>...</td>\n",
       "      <td>...</td>\n",
       "      <td>...</td>\n",
       "      <td>...</td>\n",
       "      <td>...</td>\n",
       "    </tr>\n",
       "    <tr>\n",
       "      <th>9654</th>\n",
       "      <td>Sya9a Maroc - FR</td>\n",
       "      <td>FAMILY</td>\n",
       "      <td>4.5</td>\n",
       "      <td>38</td>\n",
       "      <td>53.0</td>\n",
       "      <td>5,000+</td>\n",
       "      <td>Free</td>\n",
       "      <td>0.0</td>\n",
       "      <td>July 25, 2017</td>\n",
       "    </tr>\n",
       "    <tr>\n",
       "      <th>9655</th>\n",
       "      <td>Fr. Mike Schmitz Audio Teachings</td>\n",
       "      <td>FAMILY</td>\n",
       "      <td>5.0</td>\n",
       "      <td>4</td>\n",
       "      <td>3.6</td>\n",
       "      <td>100+</td>\n",
       "      <td>Free</td>\n",
       "      <td>0.0</td>\n",
       "      <td>July 6, 2018</td>\n",
       "    </tr>\n",
       "    <tr>\n",
       "      <th>9656</th>\n",
       "      <td>Parkinson Exercices FR</td>\n",
       "      <td>MEDICAL</td>\n",
       "      <td>NaN</td>\n",
       "      <td>3</td>\n",
       "      <td>9.5</td>\n",
       "      <td>1,000+</td>\n",
       "      <td>Free</td>\n",
       "      <td>0.0</td>\n",
       "      <td>January 20, 2017</td>\n",
       "    </tr>\n",
       "    <tr>\n",
       "      <th>9657</th>\n",
       "      <td>The SCP Foundation DB fr nn5n</td>\n",
       "      <td>BOOKS_AND_REFERENCE</td>\n",
       "      <td>4.5</td>\n",
       "      <td>114</td>\n",
       "      <td>NaN</td>\n",
       "      <td>1,000+</td>\n",
       "      <td>Free</td>\n",
       "      <td>0.0</td>\n",
       "      <td>January 19, 2015</td>\n",
       "    </tr>\n",
       "    <tr>\n",
       "      <th>9658</th>\n",
       "      <td>iHoroscope - 2018 Daily Horoscope &amp; Astrology</td>\n",
       "      <td>LIFESTYLE</td>\n",
       "      <td>4.5</td>\n",
       "      <td>398307</td>\n",
       "      <td>19.0</td>\n",
       "      <td>10,000,000+</td>\n",
       "      <td>Free</td>\n",
       "      <td>0.0</td>\n",
       "      <td>July 25, 2018</td>\n",
       "    </tr>\n",
       "  </tbody>\n",
       "</table>\n",
       "<p>9659 rows × 9 columns</p>\n",
       "</div>"
      ],
      "text/plain": [
       "                                                    App             Category  \\\n",
       "0        Photo Editor & Candy Camera & Grid & ScrapBook       ART_AND_DESIGN   \n",
       "1                                   Coloring book moana       ART_AND_DESIGN   \n",
       "2     U Launcher Lite – FREE Live Cool Themes, Hide ...       ART_AND_DESIGN   \n",
       "3                                 Sketch - Draw & Paint       ART_AND_DESIGN   \n",
       "4                 Pixel Draw - Number Art Coloring Book       ART_AND_DESIGN   \n",
       "...                                                 ...                  ...   \n",
       "9654                                   Sya9a Maroc - FR               FAMILY   \n",
       "9655                   Fr. Mike Schmitz Audio Teachings               FAMILY   \n",
       "9656                             Parkinson Exercices FR              MEDICAL   \n",
       "9657                      The SCP Foundation DB fr nn5n  BOOKS_AND_REFERENCE   \n",
       "9658      iHoroscope - 2018 Daily Horoscope & Astrology            LIFESTYLE   \n",
       "\n",
       "      Rating  Reviews  Size     Installs  Type  Price      Last Updated  \n",
       "0        4.1      159  19.0      10,000+  Free    0.0   January 7, 2018  \n",
       "1        3.9      967  14.0     500,000+  Free    0.0  January 15, 2018  \n",
       "2        4.7    87510   8.7   5,000,000+  Free    0.0    August 1, 2018  \n",
       "3        4.5   215644  25.0  50,000,000+  Free    0.0      June 8, 2018  \n",
       "4        4.3      967   2.8     100,000+  Free    0.0     June 20, 2018  \n",
       "...      ...      ...   ...          ...   ...    ...               ...  \n",
       "9654     4.5       38  53.0       5,000+  Free    0.0     July 25, 2017  \n",
       "9655     5.0        4   3.6         100+  Free    0.0      July 6, 2018  \n",
       "9656     NaN        3   9.5       1,000+  Free    0.0  January 20, 2017  \n",
       "9657     4.5      114   NaN       1,000+  Free    0.0  January 19, 2015  \n",
       "9658     4.5   398307  19.0  10,000,000+  Free    0.0     July 25, 2018  \n",
       "\n",
       "[9659 rows x 9 columns]"
      ]
     },
     "execution_count": 3,
     "metadata": {},
     "output_type": "execute_result"
    }
   ],
   "source": [
    "df"
   ]
  },
  {
   "cell_type": "code",
   "execution_count": 4,
   "id": "a1a15c0e",
   "metadata": {},
   "outputs": [
    {
     "data": {
      "text/html": [
       "<div>\n",
       "<style scoped>\n",
       "    .dataframe tbody tr th:only-of-type {\n",
       "        vertical-align: middle;\n",
       "    }\n",
       "\n",
       "    .dataframe tbody tr th {\n",
       "        vertical-align: top;\n",
       "    }\n",
       "\n",
       "    .dataframe thead th {\n",
       "        text-align: right;\n",
       "    }\n",
       "</style>\n",
       "<table border=\"1\" class=\"dataframe\">\n",
       "  <thead>\n",
       "    <tr style=\"text-align: right;\">\n",
       "      <th></th>\n",
       "      <th>App</th>\n",
       "      <th>Category</th>\n",
       "      <th>Rating</th>\n",
       "      <th>Reviews</th>\n",
       "      <th>Size</th>\n",
       "      <th>Installs</th>\n",
       "      <th>Type</th>\n",
       "      <th>Price</th>\n",
       "      <th>Last Updated</th>\n",
       "    </tr>\n",
       "  </thead>\n",
       "  <tbody>\n",
       "    <tr>\n",
       "      <th>0</th>\n",
       "      <td>Photo Editor &amp; Candy Camera &amp; Grid &amp; ScrapBook</td>\n",
       "      <td>ART_AND_DESIGN</td>\n",
       "      <td>4.1</td>\n",
       "      <td>159</td>\n",
       "      <td>19.0</td>\n",
       "      <td>10,000+</td>\n",
       "      <td>Free</td>\n",
       "      <td>0.0</td>\n",
       "      <td>January 7, 2018</td>\n",
       "    </tr>\n",
       "    <tr>\n",
       "      <th>1</th>\n",
       "      <td>Coloring book moana</td>\n",
       "      <td>ART_AND_DESIGN</td>\n",
       "      <td>3.9</td>\n",
       "      <td>967</td>\n",
       "      <td>14.0</td>\n",
       "      <td>500,000+</td>\n",
       "      <td>Free</td>\n",
       "      <td>0.0</td>\n",
       "      <td>January 15, 2018</td>\n",
       "    </tr>\n",
       "    <tr>\n",
       "      <th>2</th>\n",
       "      <td>U Launcher Lite – FREE Live Cool Themes, Hide ...</td>\n",
       "      <td>ART_AND_DESIGN</td>\n",
       "      <td>4.7</td>\n",
       "      <td>87510</td>\n",
       "      <td>8.7</td>\n",
       "      <td>5,000,000+</td>\n",
       "      <td>Free</td>\n",
       "      <td>0.0</td>\n",
       "      <td>August 1, 2018</td>\n",
       "    </tr>\n",
       "    <tr>\n",
       "      <th>3</th>\n",
       "      <td>Sketch - Draw &amp; Paint</td>\n",
       "      <td>ART_AND_DESIGN</td>\n",
       "      <td>4.5</td>\n",
       "      <td>215644</td>\n",
       "      <td>25.0</td>\n",
       "      <td>50,000,000+</td>\n",
       "      <td>Free</td>\n",
       "      <td>0.0</td>\n",
       "      <td>June 8, 2018</td>\n",
       "    </tr>\n",
       "    <tr>\n",
       "      <th>4</th>\n",
       "      <td>Pixel Draw - Number Art Coloring Book</td>\n",
       "      <td>ART_AND_DESIGN</td>\n",
       "      <td>4.3</td>\n",
       "      <td>967</td>\n",
       "      <td>2.8</td>\n",
       "      <td>100,000+</td>\n",
       "      <td>Free</td>\n",
       "      <td>0.0</td>\n",
       "      <td>June 20, 2018</td>\n",
       "    </tr>\n",
       "  </tbody>\n",
       "</table>\n",
       "</div>"
      ],
      "text/plain": [
       "                                                 App        Category  Rating  \\\n",
       "0     Photo Editor & Candy Camera & Grid & ScrapBook  ART_AND_DESIGN     4.1   \n",
       "1                                Coloring book moana  ART_AND_DESIGN     3.9   \n",
       "2  U Launcher Lite – FREE Live Cool Themes, Hide ...  ART_AND_DESIGN     4.7   \n",
       "3                              Sketch - Draw & Paint  ART_AND_DESIGN     4.5   \n",
       "4              Pixel Draw - Number Art Coloring Book  ART_AND_DESIGN     4.3   \n",
       "\n",
       "   Reviews  Size     Installs  Type  Price      Last Updated  \n",
       "0      159  19.0      10,000+  Free    0.0   January 7, 2018  \n",
       "1      967  14.0     500,000+  Free    0.0  January 15, 2018  \n",
       "2    87510   8.7   5,000,000+  Free    0.0    August 1, 2018  \n",
       "3   215644  25.0  50,000,000+  Free    0.0      June 8, 2018  \n",
       "4      967   2.8     100,000+  Free    0.0     June 20, 2018  "
      ]
     },
     "execution_count": 4,
     "metadata": {},
     "output_type": "execute_result"
    }
   ],
   "source": [
    "df.head(5)"
   ]
  },
  {
   "cell_type": "code",
   "execution_count": 5,
   "id": "edc68d94",
   "metadata": {},
   "outputs": [
    {
     "data": {
      "text/html": [
       "<div>\n",
       "<style scoped>\n",
       "    .dataframe tbody tr th:only-of-type {\n",
       "        vertical-align: middle;\n",
       "    }\n",
       "\n",
       "    .dataframe tbody tr th {\n",
       "        vertical-align: top;\n",
       "    }\n",
       "\n",
       "    .dataframe thead th {\n",
       "        text-align: right;\n",
       "    }\n",
       "</style>\n",
       "<table border=\"1\" class=\"dataframe\">\n",
       "  <thead>\n",
       "    <tr style=\"text-align: right;\">\n",
       "      <th></th>\n",
       "      <th>App</th>\n",
       "      <th>Category</th>\n",
       "      <th>Rating</th>\n",
       "      <th>Reviews</th>\n",
       "      <th>Size</th>\n",
       "      <th>Installs</th>\n",
       "      <th>Type</th>\n",
       "      <th>Price</th>\n",
       "      <th>Last Updated</th>\n",
       "    </tr>\n",
       "  </thead>\n",
       "  <tbody>\n",
       "    <tr>\n",
       "      <th>9654</th>\n",
       "      <td>Sya9a Maroc - FR</td>\n",
       "      <td>FAMILY</td>\n",
       "      <td>4.5</td>\n",
       "      <td>38</td>\n",
       "      <td>53.0</td>\n",
       "      <td>5,000+</td>\n",
       "      <td>Free</td>\n",
       "      <td>0.0</td>\n",
       "      <td>July 25, 2017</td>\n",
       "    </tr>\n",
       "    <tr>\n",
       "      <th>9655</th>\n",
       "      <td>Fr. Mike Schmitz Audio Teachings</td>\n",
       "      <td>FAMILY</td>\n",
       "      <td>5.0</td>\n",
       "      <td>4</td>\n",
       "      <td>3.6</td>\n",
       "      <td>100+</td>\n",
       "      <td>Free</td>\n",
       "      <td>0.0</td>\n",
       "      <td>July 6, 2018</td>\n",
       "    </tr>\n",
       "    <tr>\n",
       "      <th>9656</th>\n",
       "      <td>Parkinson Exercices FR</td>\n",
       "      <td>MEDICAL</td>\n",
       "      <td>NaN</td>\n",
       "      <td>3</td>\n",
       "      <td>9.5</td>\n",
       "      <td>1,000+</td>\n",
       "      <td>Free</td>\n",
       "      <td>0.0</td>\n",
       "      <td>January 20, 2017</td>\n",
       "    </tr>\n",
       "    <tr>\n",
       "      <th>9657</th>\n",
       "      <td>The SCP Foundation DB fr nn5n</td>\n",
       "      <td>BOOKS_AND_REFERENCE</td>\n",
       "      <td>4.5</td>\n",
       "      <td>114</td>\n",
       "      <td>NaN</td>\n",
       "      <td>1,000+</td>\n",
       "      <td>Free</td>\n",
       "      <td>0.0</td>\n",
       "      <td>January 19, 2015</td>\n",
       "    </tr>\n",
       "    <tr>\n",
       "      <th>9658</th>\n",
       "      <td>iHoroscope - 2018 Daily Horoscope &amp; Astrology</td>\n",
       "      <td>LIFESTYLE</td>\n",
       "      <td>4.5</td>\n",
       "      <td>398307</td>\n",
       "      <td>19.0</td>\n",
       "      <td>10,000,000+</td>\n",
       "      <td>Free</td>\n",
       "      <td>0.0</td>\n",
       "      <td>July 25, 2018</td>\n",
       "    </tr>\n",
       "  </tbody>\n",
       "</table>\n",
       "</div>"
      ],
      "text/plain": [
       "                                                App             Category  \\\n",
       "9654                               Sya9a Maroc - FR               FAMILY   \n",
       "9655               Fr. Mike Schmitz Audio Teachings               FAMILY   \n",
       "9656                         Parkinson Exercices FR              MEDICAL   \n",
       "9657                  The SCP Foundation DB fr nn5n  BOOKS_AND_REFERENCE   \n",
       "9658  iHoroscope - 2018 Daily Horoscope & Astrology            LIFESTYLE   \n",
       "\n",
       "      Rating  Reviews  Size     Installs  Type  Price      Last Updated  \n",
       "9654     4.5       38  53.0       5,000+  Free    0.0     July 25, 2017  \n",
       "9655     5.0        4   3.6         100+  Free    0.0      July 6, 2018  \n",
       "9656     NaN        3   9.5       1,000+  Free    0.0  January 20, 2017  \n",
       "9657     4.5      114   NaN       1,000+  Free    0.0  January 19, 2015  \n",
       "9658     4.5   398307  19.0  10,000,000+  Free    0.0     July 25, 2018  "
      ]
     },
     "execution_count": 5,
     "metadata": {},
     "output_type": "execute_result"
    }
   ],
   "source": [
    "df.tail(5)"
   ]
  },
  {
   "cell_type": "markdown",
   "id": "5aa197e6",
   "metadata": {},
   "source": [
    "# Informasi Dataset"
   ]
  },
  {
   "cell_type": "markdown",
   "id": "9083fdc4",
   "metadata": {},
   "source": [
    "Informasi yang didapatkan adalah \n",
    "jumlah record, \n",
    "nama attribute, \n",
    "jumlah attribute dengan tipe objek, \n",
    "jumlah attribute dengan tipe angka, \n",
    "jumlah attribute yang memiliki nilai null."
   ]
  },
  {
   "cell_type": "code",
   "execution_count": 6,
   "id": "458594b4",
   "metadata": {},
   "outputs": [
    {
     "data": {
      "text/plain": [
       "App              object\n",
       "Category         object\n",
       "Rating          float64\n",
       "Reviews           int64\n",
       "Size            float64\n",
       "Installs         object\n",
       "Type             object\n",
       "Price           float64\n",
       "Last Updated     object\n",
       "dtype: object"
      ]
     },
     "execution_count": 6,
     "metadata": {},
     "output_type": "execute_result"
    }
   ],
   "source": [
    "df.dtypes"
   ]
  },
  {
   "cell_type": "markdown",
   "id": "3cb3a0f5",
   "metadata": {},
   "source": [
    "Masukkan informasi di atas dalam dictionary dengan key sesuai nama informasinya. Tampilkan isi dari dictionary tersebut sebagus mungkin."
   ]
  },
  {
   "cell_type": "code",
   "execution_count": 7,
   "id": "63211488",
   "metadata": {},
   "outputs": [
    {
     "data": {
      "text/plain": [
       "Jumlah Record:                                                          9659\n",
       "Nama Attribute:            [App, Category, Rating, Reviews, Size, Install...\n",
       "Jumlah Attribute Objek:                                                    5\n",
       "Jumlah Attribute Angka:                                                    4\n",
       "Jumlah NULL:                                                               2\n",
       "dtype: object"
      ]
     },
     "execution_count": 7,
     "metadata": {},
     "output_type": "execute_result"
    }
   ],
   "source": [
    "totalRecord = len(df)\n",
    "attribute = list(df.columns)\n",
    "objek = len(df.select_dtypes(include=[\"object\"]).columns)\n",
    "angka = len(df.select_dtypes(include=[\"int64\", \"float64\"]).columns)\n",
    "NULL = len(df.columns[df.isna().sum() > 0])\n",
    "\n",
    "dict = {\n",
    "    \"Jumlah Record:\"           : totalRecord,\n",
    "    \"Nama Attribute:\"          : attribute,\n",
    "    \"Jumlah Attribute Objek:\"  : objek,\n",
    "    \"Jumlah Attribute Angka:\"  : angka,\n",
    "    \"Jumlah NULL:\"             : NULL,\n",
    "}\n",
    "\n",
    "pd.Series(dict)"
   ]
  },
  {
   "cell_type": "markdown",
   "id": "5d315605",
   "metadata": {},
   "source": [
    "# Menampilkan rata-rata, standar deviasi, nilai minimum, nilai maksimum, Q1, Q2, dan Q3 dari attribute bertipe angka"
   ]
  },
  {
   "cell_type": "markdown",
   "id": "fb34b5f8",
   "metadata": {},
   "source": [
    "Menampilkan rata-rata dengan fungsi mean()"
   ]
  },
  {
   "cell_type": "code",
   "execution_count": 8,
   "id": "27aa52bf",
   "metadata": {},
   "outputs": [
    {
     "data": {
      "text/plain": [
       "Rating          4.173243\n",
       "Reviews    216592.563826\n",
       "Size           20.395327\n",
       "Price           1.099299\n",
       "dtype: float64"
      ]
     },
     "execution_count": 8,
     "metadata": {},
     "output_type": "execute_result"
    }
   ],
   "source": [
    "df.select_dtypes(include=[\"int64\", \"float64\"]).mean()"
   ]
  },
  {
   "cell_type": "markdown",
   "id": "2e8d5f7e",
   "metadata": {},
   "source": [
    "Menampilkan standar deviasi dengan fungsi std()"
   ]
  },
  {
   "cell_type": "code",
   "execution_count": 9,
   "id": "399c8248",
   "metadata": {},
   "outputs": [
    {
     "data": {
      "text/plain": [
       "Rating     5.366247e-01\n",
       "Reviews    1.831320e+06\n",
       "Size       2.182751e+01\n",
       "Price      1.685215e+01\n",
       "dtype: float64"
      ]
     },
     "execution_count": 9,
     "metadata": {},
     "output_type": "execute_result"
    }
   ],
   "source": [
    "df.select_dtypes(include=[\"int64\", \"float64\"]).std()"
   ]
  },
  {
   "cell_type": "markdown",
   "id": "1884deba",
   "metadata": {},
   "source": [
    "Menampilkan nilai minimum dengan fungsi min()"
   ]
  },
  {
   "cell_type": "code",
   "execution_count": 10,
   "id": "7f91b366",
   "metadata": {},
   "outputs": [
    {
     "data": {
      "text/plain": [
       "Rating     1.0\n",
       "Reviews    0.0\n",
       "Size       0.0\n",
       "Price      0.0\n",
       "dtype: float64"
      ]
     },
     "execution_count": 10,
     "metadata": {},
     "output_type": "execute_result"
    }
   ],
   "source": [
    "df.select_dtypes(include=[\"int64\", \"float64\"]).min()"
   ]
  },
  {
   "cell_type": "markdown",
   "id": "7729bba4",
   "metadata": {},
   "source": [
    "Menampilkan nilai maksimum dengan fungsi max()"
   ]
  },
  {
   "cell_type": "code",
   "execution_count": 11,
   "id": "18f3ebf6",
   "metadata": {},
   "outputs": [
    {
     "data": {
      "text/plain": [
       "Rating            5.0\n",
       "Reviews    78158306.0\n",
       "Size            100.0\n",
       "Price           400.0\n",
       "dtype: float64"
      ]
     },
     "execution_count": 11,
     "metadata": {},
     "output_type": "execute_result"
    }
   ],
   "source": [
    "df.select_dtypes(include=[\"int64\", \"float64\"]).max()"
   ]
  },
  {
   "cell_type": "markdown",
   "id": "315a67de",
   "metadata": {},
   "source": [
    "Menampilkan nilai Q1, Q2, Q3 dengan fungsi quantile()"
   ]
  },
  {
   "cell_type": "code",
   "execution_count": 12,
   "id": "949266f6",
   "metadata": {},
   "outputs": [
    {
     "data": {
      "text/html": [
       "<div>\n",
       "<style scoped>\n",
       "    .dataframe tbody tr th:only-of-type {\n",
       "        vertical-align: middle;\n",
       "    }\n",
       "\n",
       "    .dataframe tbody tr th {\n",
       "        vertical-align: top;\n",
       "    }\n",
       "\n",
       "    .dataframe thead th {\n",
       "        text-align: right;\n",
       "    }\n",
       "</style>\n",
       "<table border=\"1\" class=\"dataframe\">\n",
       "  <thead>\n",
       "    <tr style=\"text-align: right;\">\n",
       "      <th></th>\n",
       "      <th>Rating</th>\n",
       "      <th>Reviews</th>\n",
       "      <th>Size</th>\n",
       "      <th>Price</th>\n",
       "    </tr>\n",
       "  </thead>\n",
       "  <tbody>\n",
       "    <tr>\n",
       "      <th>0.25</th>\n",
       "      <td>4.0</td>\n",
       "      <td>25.0</td>\n",
       "      <td>4.6</td>\n",
       "      <td>0.0</td>\n",
       "    </tr>\n",
       "    <tr>\n",
       "      <th>0.50</th>\n",
       "      <td>4.3</td>\n",
       "      <td>967.0</td>\n",
       "      <td>12.0</td>\n",
       "      <td>0.0</td>\n",
       "    </tr>\n",
       "    <tr>\n",
       "      <th>0.75</th>\n",
       "      <td>4.5</td>\n",
       "      <td>29401.0</td>\n",
       "      <td>28.0</td>\n",
       "      <td>0.0</td>\n",
       "    </tr>\n",
       "  </tbody>\n",
       "</table>\n",
       "</div>"
      ],
      "text/plain": [
       "      Rating  Reviews  Size  Price\n",
       "0.25     4.0     25.0   4.6    0.0\n",
       "0.50     4.3    967.0  12.0    0.0\n",
       "0.75     4.5  29401.0  28.0    0.0"
      ]
     },
     "execution_count": 12,
     "metadata": {},
     "output_type": "execute_result"
    }
   ],
   "source": [
    "df.select_dtypes(include=[\"int64\", \"float64\"]).quantile([0.25, 0.5, 0.75])"
   ]
  },
  {
   "cell_type": "markdown",
   "id": "e5720d6a",
   "metadata": {},
   "source": [
    "Menampilkan semua sekaligus dengan fungsi describe()"
   ]
  },
  {
   "cell_type": "code",
   "execution_count": 14,
   "id": "045a272b",
   "metadata": {},
   "outputs": [
    {
     "data": {
      "text/html": [
       "<div>\n",
       "<style scoped>\n",
       "    .dataframe tbody tr th:only-of-type {\n",
       "        vertical-align: middle;\n",
       "    }\n",
       "\n",
       "    .dataframe tbody tr th {\n",
       "        vertical-align: top;\n",
       "    }\n",
       "\n",
       "    .dataframe thead th {\n",
       "        text-align: right;\n",
       "    }\n",
       "</style>\n",
       "<table border=\"1\" class=\"dataframe\">\n",
       "  <thead>\n",
       "    <tr style=\"text-align: right;\">\n",
       "      <th></th>\n",
       "      <th>Rating</th>\n",
       "      <th>Reviews</th>\n",
       "      <th>Size</th>\n",
       "      <th>Price</th>\n",
       "    </tr>\n",
       "  </thead>\n",
       "  <tbody>\n",
       "    <tr>\n",
       "      <th>count</th>\n",
       "      <td>8196.000000</td>\n",
       "      <td>9.659000e+03</td>\n",
       "      <td>8432.000000</td>\n",
       "      <td>9659.000000</td>\n",
       "    </tr>\n",
       "    <tr>\n",
       "      <th>mean</th>\n",
       "      <td>4.173243</td>\n",
       "      <td>2.165926e+05</td>\n",
       "      <td>20.395327</td>\n",
       "      <td>1.099299</td>\n",
       "    </tr>\n",
       "    <tr>\n",
       "      <th>std</th>\n",
       "      <td>0.536625</td>\n",
       "      <td>1.831320e+06</td>\n",
       "      <td>21.827509</td>\n",
       "      <td>16.852152</td>\n",
       "    </tr>\n",
       "    <tr>\n",
       "      <th>min</th>\n",
       "      <td>1.000000</td>\n",
       "      <td>0.000000e+00</td>\n",
       "      <td>0.000000</td>\n",
       "      <td>0.000000</td>\n",
       "    </tr>\n",
       "    <tr>\n",
       "      <th>25%</th>\n",
       "      <td>4.000000</td>\n",
       "      <td>2.500000e+01</td>\n",
       "      <td>4.600000</td>\n",
       "      <td>0.000000</td>\n",
       "    </tr>\n",
       "    <tr>\n",
       "      <th>50%</th>\n",
       "      <td>4.300000</td>\n",
       "      <td>9.670000e+02</td>\n",
       "      <td>12.000000</td>\n",
       "      <td>0.000000</td>\n",
       "    </tr>\n",
       "    <tr>\n",
       "      <th>75%</th>\n",
       "      <td>4.500000</td>\n",
       "      <td>2.940100e+04</td>\n",
       "      <td>28.000000</td>\n",
       "      <td>0.000000</td>\n",
       "    </tr>\n",
       "    <tr>\n",
       "      <th>max</th>\n",
       "      <td>5.000000</td>\n",
       "      <td>7.815831e+07</td>\n",
       "      <td>100.000000</td>\n",
       "      <td>400.000000</td>\n",
       "    </tr>\n",
       "  </tbody>\n",
       "</table>\n",
       "</div>"
      ],
      "text/plain": [
       "            Rating       Reviews         Size        Price\n",
       "count  8196.000000  9.659000e+03  8432.000000  9659.000000\n",
       "mean      4.173243  2.165926e+05    20.395327     1.099299\n",
       "std       0.536625  1.831320e+06    21.827509    16.852152\n",
       "min       1.000000  0.000000e+00     0.000000     0.000000\n",
       "25%       4.000000  2.500000e+01     4.600000     0.000000\n",
       "50%       4.300000  9.670000e+02    12.000000     0.000000\n",
       "75%       4.500000  2.940100e+04    28.000000     0.000000\n",
       "max       5.000000  7.815831e+07   100.000000   400.000000"
      ]
     },
     "execution_count": 14,
     "metadata": {},
     "output_type": "execute_result"
    }
   ],
   "source": [
    "df.describe()"
   ]
  },
  {
   "cell_type": "markdown",
   "id": "99a840a6",
   "metadata": {},
   "source": [
    "# Menampilkan nilai korelasi attribute bertipe angka"
   ]
  },
  {
   "cell_type": "markdown",
   "id": "7eb50a9f",
   "metadata": {},
   "source": [
    "Menampilkan nilai korelasi dengan fungsi corr()"
   ]
  },
  {
   "cell_type": "code",
   "execution_count": 16,
   "id": "44dfa7c9",
   "metadata": {},
   "outputs": [
    {
     "data": {
      "text/html": [
       "<div>\n",
       "<style scoped>\n",
       "    .dataframe tbody tr th:only-of-type {\n",
       "        vertical-align: middle;\n",
       "    }\n",
       "\n",
       "    .dataframe tbody tr th {\n",
       "        vertical-align: top;\n",
       "    }\n",
       "\n",
       "    .dataframe thead th {\n",
       "        text-align: right;\n",
       "    }\n",
       "</style>\n",
       "<table border=\"1\" class=\"dataframe\">\n",
       "  <thead>\n",
       "    <tr style=\"text-align: right;\">\n",
       "      <th></th>\n",
       "      <th>Rating</th>\n",
       "      <th>Reviews</th>\n",
       "      <th>Size</th>\n",
       "      <th>Price</th>\n",
       "    </tr>\n",
       "  </thead>\n",
       "  <tbody>\n",
       "    <tr>\n",
       "      <th>Rating</th>\n",
       "      <td>1.000000</td>\n",
       "      <td>0.055081</td>\n",
       "      <td>0.063076</td>\n",
       "      <td>-0.021199</td>\n",
       "    </tr>\n",
       "    <tr>\n",
       "      <th>Reviews</th>\n",
       "      <td>0.055081</td>\n",
       "      <td>1.000000</td>\n",
       "      <td>0.179321</td>\n",
       "      <td>-0.007598</td>\n",
       "    </tr>\n",
       "    <tr>\n",
       "      <th>Size</th>\n",
       "      <td>0.063076</td>\n",
       "      <td>0.179321</td>\n",
       "      <td>1.000000</td>\n",
       "      <td>-0.022434</td>\n",
       "    </tr>\n",
       "    <tr>\n",
       "      <th>Price</th>\n",
       "      <td>-0.021199</td>\n",
       "      <td>-0.007598</td>\n",
       "      <td>-0.022434</td>\n",
       "      <td>1.000000</td>\n",
       "    </tr>\n",
       "  </tbody>\n",
       "</table>\n",
       "</div>"
      ],
      "text/plain": [
       "           Rating   Reviews      Size     Price\n",
       "Rating   1.000000  0.055081  0.063076 -0.021199\n",
       "Reviews  0.055081  1.000000  0.179321 -0.007598\n",
       "Size     0.063076  0.179321  1.000000 -0.022434\n",
       "Price   -0.021199 -0.007598 -0.022434  1.000000"
      ]
     },
     "execution_count": 16,
     "metadata": {},
     "output_type": "execute_result"
    }
   ],
   "source": [
    "df.select_dtypes(include=[\"int64\", \"float64\"]).corr()"
   ]
  },
  {
   "cell_type": "markdown",
   "id": "6563447e",
   "metadata": {},
   "source": [
    "# Mengubah nilai salah satu attribute bertipe angka menjadi desimal 3 angka di belakang koma"
   ]
  },
  {
   "cell_type": "markdown",
   "id": "77614a64",
   "metadata": {},
   "source": [
    "Nilai atributte yang akan diubah adalah Reviews yang sebelumnya merupakan bilangan Bulat berubah menjadi bilangan Desimal dengan fungsi astype()"
   ]
  },
  {
   "cell_type": "code",
   "execution_count": 17,
   "id": "2db84528",
   "metadata": {},
   "outputs": [
    {
     "name": "stdout",
     "output_type": "stream",
     "text": [
      "Sebelum:  int64\n",
      "Setelah:  float64\n"
     ]
    }
   ],
   "source": [
    "print(\"Sebelum: \", df[\"Reviews\"].dtypes)\n",
    "\n",
    "df[\"Reviews\"] = df[\"Reviews\"].astype(\"float64\")\n",
    "\n",
    "print(\"Setelah: \", df[\"Reviews\"].dtypes)"
   ]
  },
  {
   "cell_type": "code",
   "execution_count": 18,
   "id": "abc2964a",
   "metadata": {},
   "outputs": [
    {
     "data": {
      "text/plain": [
       "App              object\n",
       "Category         object\n",
       "Rating          float64\n",
       "Reviews         float64\n",
       "Size            float64\n",
       "Installs         object\n",
       "Type             object\n",
       "Price           float64\n",
       "Last Updated     object\n",
       "dtype: object"
      ]
     },
     "execution_count": 18,
     "metadata": {},
     "output_type": "execute_result"
    }
   ],
   "source": [
    "df.dtypes"
   ]
  },
  {
   "cell_type": "markdown",
   "id": "4f4d44db",
   "metadata": {},
   "source": [
    "# Menampilkan 10 record pertama dari attribute bertipe angka"
   ]
  },
  {
   "cell_type": "markdown",
   "id": "f3f0e389",
   "metadata": {},
   "source": [
    "Data yang ditampilkan adalah 10 record pertama dengan fungsi head(10) dari attribute yang bertipe angka dengan float64 karena semua record angka sekarang merupakan bilangan desimal"
   ]
  },
  {
   "cell_type": "code",
   "execution_count": 19,
   "id": "e40488e4",
   "metadata": {},
   "outputs": [
    {
     "data": {
      "text/html": [
       "<div>\n",
       "<style scoped>\n",
       "    .dataframe tbody tr th:only-of-type {\n",
       "        vertical-align: middle;\n",
       "    }\n",
       "\n",
       "    .dataframe tbody tr th {\n",
       "        vertical-align: top;\n",
       "    }\n",
       "\n",
       "    .dataframe thead th {\n",
       "        text-align: right;\n",
       "    }\n",
       "</style>\n",
       "<table border=\"1\" class=\"dataframe\">\n",
       "  <thead>\n",
       "    <tr style=\"text-align: right;\">\n",
       "      <th></th>\n",
       "      <th>Rating</th>\n",
       "      <th>Reviews</th>\n",
       "      <th>Size</th>\n",
       "      <th>Price</th>\n",
       "    </tr>\n",
       "  </thead>\n",
       "  <tbody>\n",
       "    <tr>\n",
       "      <th>0</th>\n",
       "      <td>4.1</td>\n",
       "      <td>159.0</td>\n",
       "      <td>19.0</td>\n",
       "      <td>0.0</td>\n",
       "    </tr>\n",
       "    <tr>\n",
       "      <th>1</th>\n",
       "      <td>3.9</td>\n",
       "      <td>967.0</td>\n",
       "      <td>14.0</td>\n",
       "      <td>0.0</td>\n",
       "    </tr>\n",
       "    <tr>\n",
       "      <th>2</th>\n",
       "      <td>4.7</td>\n",
       "      <td>87510.0</td>\n",
       "      <td>8.7</td>\n",
       "      <td>0.0</td>\n",
       "    </tr>\n",
       "    <tr>\n",
       "      <th>3</th>\n",
       "      <td>4.5</td>\n",
       "      <td>215644.0</td>\n",
       "      <td>25.0</td>\n",
       "      <td>0.0</td>\n",
       "    </tr>\n",
       "    <tr>\n",
       "      <th>4</th>\n",
       "      <td>4.3</td>\n",
       "      <td>967.0</td>\n",
       "      <td>2.8</td>\n",
       "      <td>0.0</td>\n",
       "    </tr>\n",
       "    <tr>\n",
       "      <th>5</th>\n",
       "      <td>4.4</td>\n",
       "      <td>167.0</td>\n",
       "      <td>5.6</td>\n",
       "      <td>0.0</td>\n",
       "    </tr>\n",
       "    <tr>\n",
       "      <th>6</th>\n",
       "      <td>3.8</td>\n",
       "      <td>178.0</td>\n",
       "      <td>19.0</td>\n",
       "      <td>0.0</td>\n",
       "    </tr>\n",
       "    <tr>\n",
       "      <th>7</th>\n",
       "      <td>4.1</td>\n",
       "      <td>36815.0</td>\n",
       "      <td>29.0</td>\n",
       "      <td>0.0</td>\n",
       "    </tr>\n",
       "    <tr>\n",
       "      <th>8</th>\n",
       "      <td>4.4</td>\n",
       "      <td>13791.0</td>\n",
       "      <td>33.0</td>\n",
       "      <td>0.0</td>\n",
       "    </tr>\n",
       "    <tr>\n",
       "      <th>9</th>\n",
       "      <td>4.7</td>\n",
       "      <td>121.0</td>\n",
       "      <td>3.1</td>\n",
       "      <td>0.0</td>\n",
       "    </tr>\n",
       "  </tbody>\n",
       "</table>\n",
       "</div>"
      ],
      "text/plain": [
       "   Rating   Reviews  Size  Price\n",
       "0     4.1     159.0  19.0    0.0\n",
       "1     3.9     967.0  14.0    0.0\n",
       "2     4.7   87510.0   8.7    0.0\n",
       "3     4.5  215644.0  25.0    0.0\n",
       "4     4.3     967.0   2.8    0.0\n",
       "5     4.4     167.0   5.6    0.0\n",
       "6     3.8     178.0  19.0    0.0\n",
       "7     4.1   36815.0  29.0    0.0\n",
       "8     4.4   13791.0  33.0    0.0\n",
       "9     4.7     121.0   3.1    0.0"
      ]
     },
     "execution_count": 19,
     "metadata": {},
     "output_type": "execute_result"
    }
   ],
   "source": [
    "df.select_dtypes(include=[\"float64\"]).head(10)"
   ]
  },
  {
   "cell_type": "markdown",
   "id": "c04bf2c5",
   "metadata": {},
   "source": [
    "# Simpan dataset dengan attribute bertipe angka ke dalam file CSV"
   ]
  },
  {
   "cell_type": "markdown",
   "id": "d3d7d53a",
   "metadata": {},
   "source": [
    "Record yang disimpan ke file csv yang baru merupakan attribute bertipe angka"
   ]
  },
  {
   "cell_type": "code",
   "execution_count": 21,
   "id": "5c315d9c",
   "metadata": {},
   "outputs": [],
   "source": [
    "df.select_dtypes(include=[\"float64\"]).to_csv(\"AtributAngka_appsgoogleplay.csv\", index=False)"
   ]
  },
  {
   "cell_type": "code",
   "execution_count": 22,
   "id": "808be7b6",
   "metadata": {},
   "outputs": [],
   "source": [
    "df = pd.read_csv(\"AtributAngka_appsgoogleplay.csv\")"
   ]
  },
  {
   "cell_type": "code",
   "execution_count": 23,
   "id": "984c1c2b",
   "metadata": {},
   "outputs": [
    {
     "data": {
      "text/html": [
       "<div>\n",
       "<style scoped>\n",
       "    .dataframe tbody tr th:only-of-type {\n",
       "        vertical-align: middle;\n",
       "    }\n",
       "\n",
       "    .dataframe tbody tr th {\n",
       "        vertical-align: top;\n",
       "    }\n",
       "\n",
       "    .dataframe thead th {\n",
       "        text-align: right;\n",
       "    }\n",
       "</style>\n",
       "<table border=\"1\" class=\"dataframe\">\n",
       "  <thead>\n",
       "    <tr style=\"text-align: right;\">\n",
       "      <th></th>\n",
       "      <th>Rating</th>\n",
       "      <th>Reviews</th>\n",
       "      <th>Size</th>\n",
       "      <th>Price</th>\n",
       "    </tr>\n",
       "  </thead>\n",
       "  <tbody>\n",
       "    <tr>\n",
       "      <th>0</th>\n",
       "      <td>4.1</td>\n",
       "      <td>159.0</td>\n",
       "      <td>19.0</td>\n",
       "      <td>0.0</td>\n",
       "    </tr>\n",
       "    <tr>\n",
       "      <th>1</th>\n",
       "      <td>3.9</td>\n",
       "      <td>967.0</td>\n",
       "      <td>14.0</td>\n",
       "      <td>0.0</td>\n",
       "    </tr>\n",
       "    <tr>\n",
       "      <th>2</th>\n",
       "      <td>4.7</td>\n",
       "      <td>87510.0</td>\n",
       "      <td>8.7</td>\n",
       "      <td>0.0</td>\n",
       "    </tr>\n",
       "    <tr>\n",
       "      <th>3</th>\n",
       "      <td>4.5</td>\n",
       "      <td>215644.0</td>\n",
       "      <td>25.0</td>\n",
       "      <td>0.0</td>\n",
       "    </tr>\n",
       "    <tr>\n",
       "      <th>4</th>\n",
       "      <td>4.3</td>\n",
       "      <td>967.0</td>\n",
       "      <td>2.8</td>\n",
       "      <td>0.0</td>\n",
       "    </tr>\n",
       "    <tr>\n",
       "      <th>...</th>\n",
       "      <td>...</td>\n",
       "      <td>...</td>\n",
       "      <td>...</td>\n",
       "      <td>...</td>\n",
       "    </tr>\n",
       "    <tr>\n",
       "      <th>9654</th>\n",
       "      <td>4.5</td>\n",
       "      <td>38.0</td>\n",
       "      <td>53.0</td>\n",
       "      <td>0.0</td>\n",
       "    </tr>\n",
       "    <tr>\n",
       "      <th>9655</th>\n",
       "      <td>5.0</td>\n",
       "      <td>4.0</td>\n",
       "      <td>3.6</td>\n",
       "      <td>0.0</td>\n",
       "    </tr>\n",
       "    <tr>\n",
       "      <th>9656</th>\n",
       "      <td>NaN</td>\n",
       "      <td>3.0</td>\n",
       "      <td>9.5</td>\n",
       "      <td>0.0</td>\n",
       "    </tr>\n",
       "    <tr>\n",
       "      <th>9657</th>\n",
       "      <td>4.5</td>\n",
       "      <td>114.0</td>\n",
       "      <td>NaN</td>\n",
       "      <td>0.0</td>\n",
       "    </tr>\n",
       "    <tr>\n",
       "      <th>9658</th>\n",
       "      <td>4.5</td>\n",
       "      <td>398307.0</td>\n",
       "      <td>19.0</td>\n",
       "      <td>0.0</td>\n",
       "    </tr>\n",
       "  </tbody>\n",
       "</table>\n",
       "<p>9659 rows × 4 columns</p>\n",
       "</div>"
      ],
      "text/plain": [
       "      Rating   Reviews  Size  Price\n",
       "0        4.1     159.0  19.0    0.0\n",
       "1        3.9     967.0  14.0    0.0\n",
       "2        4.7   87510.0   8.7    0.0\n",
       "3        4.5  215644.0  25.0    0.0\n",
       "4        4.3     967.0   2.8    0.0\n",
       "...      ...       ...   ...    ...\n",
       "9654     4.5      38.0  53.0    0.0\n",
       "9655     5.0       4.0   3.6    0.0\n",
       "9656     NaN       3.0   9.5    0.0\n",
       "9657     4.5     114.0   NaN    0.0\n",
       "9658     4.5  398307.0  19.0    0.0\n",
       "\n",
       "[9659 rows x 4 columns]"
      ]
     },
     "execution_count": 23,
     "metadata": {},
     "output_type": "execute_result"
    }
   ],
   "source": [
    "df"
   ]
  }
 ],
 "metadata": {
  "kernelspec": {
   "display_name": "Python 3 (ipykernel)",
   "language": "python",
   "name": "python3"
  },
  "language_info": {
   "codemirror_mode": {
    "name": "ipython",
    "version": 3
   },
   "file_extension": ".py",
   "mimetype": "text/x-python",
   "name": "python",
   "nbconvert_exporter": "python",
   "pygments_lexer": "ipython3",
   "version": "3.10.7"
  }
 },
 "nbformat": 4,
 "nbformat_minor": 5
}
