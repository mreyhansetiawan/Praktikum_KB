{
 "cells": [
  {
   "cell_type": "markdown",
   "id": "bc87f85e",
   "metadata": {},
   "source": [
    "# POST TEST 8 PRAKTIKUM KB"
   ]
  },
  {
   "cell_type": "markdown",
   "id": "7dc3cb29",
   "metadata": {},
   "source": [
    "Nama: Muhammad Reyhan Setiawan\n",
    "\n",
    "NIM: 2009106052"
   ]
  },
  {
   "cell_type": "markdown",
   "id": "3c979db7",
   "metadata": {},
   "source": [
    "# The Android App Market on Google Play Deep Learning"
   ]
  },
  {
   "cell_type": "markdown",
   "id": "b5bccfe9",
   "metadata": {},
   "source": [
    "# Import Library Package"
   ]
  },
  {
   "cell_type": "markdown",
   "id": "903d8cce",
   "metadata": {},
   "source": [
    "Mengimpor library pandas sebagai pd, matplotlib.pyplot sebagai plt dan berbagai sklearn untuk data preprocesing dan tensorflow sebagai tf untuk deep learning. Dan data sebagai df untuk membaca dataset"
   ]
  },
  {
   "cell_type": "code",
   "execution_count": 1,
   "id": "2cdd1e57",
   "metadata": {},
   "outputs": [],
   "source": [
    "import pandas as pd\n",
    "import tensorflow as tf\n",
    "from sklearn.impute import SimpleImputer\n",
    "from sklearn.model_selection import train_test_split\n",
    "import matplotlib.pyplot as plt"
   ]
  },
  {
   "cell_type": "markdown",
   "id": "316d40ef",
   "metadata": {},
   "source": [
    "# Membaca Dataset"
   ]
  },
  {
   "cell_type": "markdown",
   "id": "f24ab27a",
   "metadata": {},
   "source": [
    "Dataset berupa file .csv (appgooglefix.csv)"
   ]
  },
  {
   "cell_type": "code",
   "execution_count": 2,
   "id": "804e556f",
   "metadata": {},
   "outputs": [],
   "source": [
    "df = pd.read_csv(\"appgooglefix.csv\")"
   ]
  },
  {
   "cell_type": "code",
   "execution_count": 3,
   "id": "cac50e46",
   "metadata": {},
   "outputs": [
    {
     "data": {
      "text/html": [
       "<div>\n",
       "<style scoped>\n",
       "    .dataframe tbody tr th:only-of-type {\n",
       "        vertical-align: middle;\n",
       "    }\n",
       "\n",
       "    .dataframe tbody tr th {\n",
       "        vertical-align: top;\n",
       "    }\n",
       "\n",
       "    .dataframe thead th {\n",
       "        text-align: right;\n",
       "    }\n",
       "</style>\n",
       "<table border=\"1\" class=\"dataframe\">\n",
       "  <thead>\n",
       "    <tr style=\"text-align: right;\">\n",
       "      <th></th>\n",
       "      <th>Rating</th>\n",
       "      <th>Reviews</th>\n",
       "      <th>Size</th>\n",
       "      <th>Type</th>\n",
       "      <th>Price</th>\n",
       "    </tr>\n",
       "  </thead>\n",
       "  <tbody>\n",
       "    <tr>\n",
       "      <th>0</th>\n",
       "      <td>4.1</td>\n",
       "      <td>159</td>\n",
       "      <td>19.0</td>\n",
       "      <td>Free</td>\n",
       "      <td>0.0</td>\n",
       "    </tr>\n",
       "    <tr>\n",
       "      <th>1</th>\n",
       "      <td>3.9</td>\n",
       "      <td>967</td>\n",
       "      <td>14.0</td>\n",
       "      <td>Free</td>\n",
       "      <td>0.0</td>\n",
       "    </tr>\n",
       "    <tr>\n",
       "      <th>2</th>\n",
       "      <td>4.7</td>\n",
       "      <td>87510</td>\n",
       "      <td>8.7</td>\n",
       "      <td>Free</td>\n",
       "      <td>0.0</td>\n",
       "    </tr>\n",
       "    <tr>\n",
       "      <th>3</th>\n",
       "      <td>4.5</td>\n",
       "      <td>215644</td>\n",
       "      <td>25.0</td>\n",
       "      <td>Free</td>\n",
       "      <td>0.0</td>\n",
       "    </tr>\n",
       "    <tr>\n",
       "      <th>4</th>\n",
       "      <td>4.3</td>\n",
       "      <td>967</td>\n",
       "      <td>2.8</td>\n",
       "      <td>Free</td>\n",
       "      <td>0.0</td>\n",
       "    </tr>\n",
       "    <tr>\n",
       "      <th>...</th>\n",
       "      <td>...</td>\n",
       "      <td>...</td>\n",
       "      <td>...</td>\n",
       "      <td>...</td>\n",
       "      <td>...</td>\n",
       "    </tr>\n",
       "    <tr>\n",
       "      <th>9654</th>\n",
       "      <td>4.5</td>\n",
       "      <td>38</td>\n",
       "      <td>53.0</td>\n",
       "      <td>Free</td>\n",
       "      <td>0.0</td>\n",
       "    </tr>\n",
       "    <tr>\n",
       "      <th>9655</th>\n",
       "      <td>5.0</td>\n",
       "      <td>4</td>\n",
       "      <td>3.6</td>\n",
       "      <td>Free</td>\n",
       "      <td>0.0</td>\n",
       "    </tr>\n",
       "    <tr>\n",
       "      <th>9656</th>\n",
       "      <td>NaN</td>\n",
       "      <td>3</td>\n",
       "      <td>9.5</td>\n",
       "      <td>Free</td>\n",
       "      <td>0.0</td>\n",
       "    </tr>\n",
       "    <tr>\n",
       "      <th>9657</th>\n",
       "      <td>4.5</td>\n",
       "      <td>114</td>\n",
       "      <td>NaN</td>\n",
       "      <td>Free</td>\n",
       "      <td>0.0</td>\n",
       "    </tr>\n",
       "    <tr>\n",
       "      <th>9658</th>\n",
       "      <td>4.5</td>\n",
       "      <td>398307</td>\n",
       "      <td>19.0</td>\n",
       "      <td>Free</td>\n",
       "      <td>0.0</td>\n",
       "    </tr>\n",
       "  </tbody>\n",
       "</table>\n",
       "<p>9659 rows × 5 columns</p>\n",
       "</div>"
      ],
      "text/plain": [
       "      Rating  Reviews  Size  Type  Price\n",
       "0        4.1      159  19.0  Free    0.0\n",
       "1        3.9      967  14.0  Free    0.0\n",
       "2        4.7    87510   8.7  Free    0.0\n",
       "3        4.5   215644  25.0  Free    0.0\n",
       "4        4.3      967   2.8  Free    0.0\n",
       "...      ...      ...   ...   ...    ...\n",
       "9654     4.5       38  53.0  Free    0.0\n",
       "9655     5.0        4   3.6  Free    0.0\n",
       "9656     NaN        3   9.5  Free    0.0\n",
       "9657     4.5      114   NaN  Free    0.0\n",
       "9658     4.5   398307  19.0  Free    0.0\n",
       "\n",
       "[9659 rows x 5 columns]"
      ]
     },
     "execution_count": 3,
     "metadata": {},
     "output_type": "execute_result"
    }
   ],
   "source": [
    "df"
   ]
  },
  {
   "cell_type": "markdown",
   "id": "aa0ce6f0",
   "metadata": {},
   "source": [
    "# Data Preprocessing "
   ]
  },
  {
   "cell_type": "markdown",
   "id": "e478ffc7",
   "metadata": {},
   "source": [
    "Sebelum lanjut ke deep learning, data akan dibersihkan terlebih dahulu kolom yang memiliki nilai Null"
   ]
  },
  {
   "cell_type": "code",
   "execution_count": 4,
   "id": "85938ff3",
   "metadata": {},
   "outputs": [
    {
     "data": {
      "text/plain": [
       "Rating     1463\n",
       "Reviews       0\n",
       "Size       1227\n",
       "Type          0\n",
       "Price         0\n",
       "dtype: int64"
      ]
     },
     "execution_count": 4,
     "metadata": {},
     "output_type": "execute_result"
    }
   ],
   "source": [
    "df.isna().sum()"
   ]
  },
  {
   "cell_type": "code",
   "execution_count": 5,
   "id": "6d720a86",
   "metadata": {},
   "outputs": [],
   "source": [
    "imputer_mean = SimpleImputer(strategy=\"mean\")"
   ]
  },
  {
   "cell_type": "code",
   "execution_count": 6,
   "id": "32cf29ae",
   "metadata": {},
   "outputs": [],
   "source": [
    "df[\"Rating\"] = imputer_mean.fit_transform(df[[\"Rating\"]])\n",
    "df[\"Size\"] = imputer_mean.fit_transform(df[[\"Size\"]])"
   ]
  },
  {
   "cell_type": "code",
   "execution_count": 7,
   "id": "81628156",
   "metadata": {},
   "outputs": [
    {
     "data": {
      "text/plain": [
       "Rating     0\n",
       "Reviews    0\n",
       "Size       0\n",
       "Type       0\n",
       "Price      0\n",
       "dtype: int64"
      ]
     },
     "execution_count": 7,
     "metadata": {},
     "output_type": "execute_result"
    }
   ],
   "source": [
    "df.isna().sum()"
   ]
  },
  {
   "cell_type": "markdown",
   "id": "f92d0ba7",
   "metadata": {},
   "source": [
    "Mengubah tipe data object menjadi angka pada kolom Type"
   ]
  },
  {
   "cell_type": "code",
   "execution_count": 8,
   "id": "4dd495cc",
   "metadata": {},
   "outputs": [],
   "source": [
    "df.replace(\"Free\", value=0, inplace=True)\n",
    "df.replace(\"Paid\", value=1, inplace=True)"
   ]
  },
  {
   "cell_type": "markdown",
   "id": "8a9562ce",
   "metadata": {},
   "source": [
    "# Deep Learning"
   ]
  },
  {
   "cell_type": "markdown",
   "id": "cd76bab5",
   "metadata": {},
   "source": [
    "Menjadikan kolom Rating, Reviews, Size, Price sebagai label(y) dan kolom Type sebagai record(x)"
   ]
  },
  {
   "cell_type": "code",
   "execution_count": 74,
   "id": "3d45f524",
   "metadata": {},
   "outputs": [],
   "source": [
    "X = df[['Rating', 'Reviews', 'Size', 'Price']]\n",
    "Y = df[['Type']]"
   ]
  },
  {
   "cell_type": "markdown",
   "id": "e8d5421f",
   "metadata": {},
   "source": [
    "Membagi dataset menjadi training set dan testing set dengan proporsi 70:30"
   ]
  },
  {
   "cell_type": "code",
   "execution_count": 75,
   "id": "b6b0d82f",
   "metadata": {},
   "outputs": [],
   "source": [
    "x_train, x_test, y_train, y_test = train_test_split(X, Y, random_state=0, test_size=.3)"
   ]
  },
  {
   "cell_type": "markdown",
   "id": "fc7cb8e1",
   "metadata": {},
   "source": [
    "Encoding label dengan one-hot encoding menggunakan keras.utils"
   ]
  },
  {
   "cell_type": "code",
   "execution_count": 76,
   "id": "9625ee53",
   "metadata": {},
   "outputs": [],
   "source": [
    "num_class = 2\n",
    "y_train = tf.keras.utils.to_categorical(y_train, num_class)\n",
    "y_test = tf.keras.utils.to_categorical(y_test, num_class)"
   ]
  },
  {
   "cell_type": "markdown",
   "id": "3f30a24c",
   "metadata": {},
   "source": [
    "Sequential model dengan fungsi activation ReLu dan softmax activation"
   ]
  },
  {
   "cell_type": "code",
   "execution_count": 77,
   "id": "1c3dac75",
   "metadata": {
    "scrolled": true
   },
   "outputs": [
    {
     "name": "stdout",
     "output_type": "stream",
     "text": [
      "Model: \"sequential_5\"\n",
      "_________________________________________________________________\n",
      " Layer (type)                Output Shape              Param #   \n",
      "=================================================================\n",
      " dense_10 (Dense)            (None, 2)                 10        \n",
      "                                                                 \n",
      " dense_11 (Dense)            (None, 2)                 6         \n",
      "                                                                 \n",
      "=================================================================\n",
      "Total params: 16\n",
      "Trainable params: 16\n",
      "Non-trainable params: 0\n",
      "_________________________________________________________________\n"
     ]
    }
   ],
   "source": [
    "model = tf.keras.Sequential([\n",
    "    tf.keras.layers.Dense(2, activation=\"relu\", input_dim=4),\n",
    "    tf.keras.layers.Dense(num_class, activation=\"softmax\")\n",
    "])\n",
    "model.summary()"
   ]
  },
  {
   "cell_type": "markdown",
   "id": "492a7f49",
   "metadata": {},
   "source": [
    "Compile model menggunakan optimizer adam, categorical_crossentropy loss function, dan metrics accuracy"
   ]
  },
  {
   "cell_type": "code",
   "execution_count": 78,
   "id": "4b3a3338",
   "metadata": {},
   "outputs": [],
   "source": [
    "model.compile(\n",
    "    optimizer=tf.keras.optimizers.Adam(),\n",
    "    loss=tf.keras.losses.categorical_crossentropy,\n",
    "    metrics=[\"accuracy\"]\n",
    ")"
   ]
  },
  {
   "cell_type": "markdown",
   "id": "66a0800f",
   "metadata": {},
   "source": [
    "Training model dengan 30 epoch"
   ]
  },
  {
   "cell_type": "code",
   "execution_count": 79,
   "id": "94a8e0a4",
   "metadata": {},
   "outputs": [
    {
     "name": "stdout",
     "output_type": "stream",
     "text": [
      "Epoch 1/30\n",
      "30/30 - 1s - loss: 3.0893 - accuracy: 0.8034 - val_loss: 2.9732 - val_accuracy: 0.8009 - 1s/epoch - 44ms/step\n",
      "Epoch 2/30\n",
      "30/30 - 0s - loss: 2.8101 - accuracy: 0.8104 - val_loss: 2.6971 - val_accuracy: 0.8061 - 307ms/epoch - 10ms/step\n",
      "Epoch 3/30\n",
      "30/30 - 0s - loss: 2.5519 - accuracy: 0.8162 - val_loss: 2.4471 - val_accuracy: 0.8157 - 314ms/epoch - 10ms/step\n",
      "Epoch 4/30\n",
      "30/30 - 0s - loss: 2.3147 - accuracy: 0.8230 - val_loss: 2.2156 - val_accuracy: 0.8230 - 317ms/epoch - 11ms/step\n",
      "Epoch 5/30\n",
      "30/30 - 0s - loss: 2.0899 - accuracy: 0.8314 - val_loss: 1.9714 - val_accuracy: 0.8295 - 292ms/epoch - 10ms/step\n",
      "Epoch 6/30\n",
      "30/30 - 0s - loss: 1.8151 - accuracy: 0.8392 - val_loss: 1.6288 - val_accuracy: 0.8389 - 293ms/epoch - 10ms/step\n",
      "Epoch 7/30\n",
      "30/30 - 0s - loss: 1.4597 - accuracy: 0.8493 - val_loss: 1.2435 - val_accuracy: 0.8540 - 308ms/epoch - 10ms/step\n",
      "Epoch 8/30\n",
      "30/30 - 0s - loss: 1.0892 - accuracy: 0.8656 - val_loss: 0.8916 - val_accuracy: 0.8754 - 278ms/epoch - 9ms/step\n",
      "Epoch 9/30\n",
      "30/30 - 0s - loss: 0.7704 - accuracy: 0.8860 - val_loss: 0.6312 - val_accuracy: 0.8979 - 298ms/epoch - 10ms/step\n",
      "Epoch 10/30\n",
      "30/30 - 0s - loss: 0.5837 - accuracy: 0.9064 - val_loss: 0.5194 - val_accuracy: 0.9161 - 301ms/epoch - 10ms/step\n",
      "Epoch 11/30\n",
      "30/30 - 0s - loss: 0.5115 - accuracy: 0.9127 - val_loss: 0.4813 - val_accuracy: 0.9217 - 277ms/epoch - 9ms/step\n",
      "Epoch 12/30\n",
      "30/30 - 0s - loss: 0.4822 - accuracy: 0.9169 - val_loss: 0.4629 - val_accuracy: 0.9234 - 304ms/epoch - 10ms/step\n",
      "Epoch 13/30\n",
      "30/30 - 0s - loss: 0.4659 - accuracy: 0.9195 - val_loss: 0.4500 - val_accuracy: 0.9244 - 288ms/epoch - 10ms/step\n",
      "Epoch 14/30\n",
      "30/30 - 0s - loss: 0.4532 - accuracy: 0.9200 - val_loss: 0.4384 - val_accuracy: 0.9255 - 317ms/epoch - 11ms/step\n",
      "Epoch 15/30\n",
      "30/30 - 0s - loss: 0.4417 - accuracy: 0.9210 - val_loss: 0.4272 - val_accuracy: 0.9265 - 340ms/epoch - 11ms/step\n",
      "Epoch 16/30\n",
      "30/30 - 0s - loss: 0.4307 - accuracy: 0.9213 - val_loss: 0.4163 - val_accuracy: 0.9268 - 301ms/epoch - 10ms/step\n",
      "Epoch 17/30\n",
      "30/30 - 0s - loss: 0.4204 - accuracy: 0.9218 - val_loss: 0.4064 - val_accuracy: 0.9275 - 300ms/epoch - 10ms/step\n",
      "Epoch 18/30\n",
      "30/30 - 0s - loss: 0.4105 - accuracy: 0.9221 - val_loss: 0.3974 - val_accuracy: 0.9275 - 293ms/epoch - 10ms/step\n",
      "Epoch 19/30\n",
      "30/30 - 0s - loss: 0.4015 - accuracy: 0.9223 - val_loss: 0.3884 - val_accuracy: 0.9275 - 295ms/epoch - 10ms/step\n",
      "Epoch 20/30\n",
      "30/30 - 0s - loss: 0.3926 - accuracy: 0.9228 - val_loss: 0.3800 - val_accuracy: 0.9279 - 312ms/epoch - 10ms/step\n",
      "Epoch 21/30\n",
      "30/30 - 0s - loss: 0.3842 - accuracy: 0.9229 - val_loss: 0.3723 - val_accuracy: 0.9279 - 308ms/epoch - 10ms/step\n",
      "Epoch 22/30\n",
      "30/30 - 0s - loss: 0.3766 - accuracy: 0.9232 - val_loss: 0.3651 - val_accuracy: 0.9286 - 308ms/epoch - 10ms/step\n",
      "Epoch 23/30\n",
      "30/30 - 0s - loss: 0.3693 - accuracy: 0.9234 - val_loss: 0.3583 - val_accuracy: 0.9286 - 293ms/epoch - 10ms/step\n",
      "Epoch 24/30\n",
      "30/30 - 0s - loss: 0.3622 - accuracy: 0.9235 - val_loss: 0.3518 - val_accuracy: 0.9282 - 291ms/epoch - 10ms/step\n",
      "Epoch 25/30\n",
      "30/30 - 0s - loss: 0.3555 - accuracy: 0.9237 - val_loss: 0.3456 - val_accuracy: 0.9282 - 330ms/epoch - 11ms/step\n",
      "Epoch 26/30\n",
      "30/30 - 0s - loss: 0.3492 - accuracy: 0.9237 - val_loss: 0.3395 - val_accuracy: 0.9286 - 334ms/epoch - 11ms/step\n",
      "Epoch 27/30\n",
      "30/30 - 0s - loss: 0.3431 - accuracy: 0.9247 - val_loss: 0.3337 - val_accuracy: 0.9286 - 310ms/epoch - 10ms/step\n",
      "Epoch 28/30\n",
      "30/30 - 0s - loss: 0.3376 - accuracy: 0.9247 - val_loss: 0.3283 - val_accuracy: 0.9293 - 329ms/epoch - 11ms/step\n",
      "Epoch 29/30\n",
      "30/30 - 0s - loss: 0.3320 - accuracy: 0.9249 - val_loss: 0.3231 - val_accuracy: 0.9289 - 309ms/epoch - 10ms/step\n",
      "Epoch 30/30\n",
      "30/30 - 0s - loss: 0.3268 - accuracy: 0.9256 - val_loss: 0.3181 - val_accuracy: 0.9296 - 282ms/epoch - 9ms/step\n"
     ]
    }
   ],
   "source": [
    "history = model.fit(\n",
    "    x = x_train, y = y_train, \n",
    "    validation_data=(x_test, y_test),\n",
    "    verbose=2,\n",
    "    epochs=30,\n",
    "    steps_per_epoch=30\n",
    ")"
   ]
  },
  {
   "cell_type": "markdown",
   "id": "5a523928",
   "metadata": {},
   "source": [
    "Evaluate model menggunakan data testing untuk melihat akurasi data"
   ]
  },
  {
   "cell_type": "code",
   "execution_count": 81,
   "id": "b5482d4b",
   "metadata": {},
   "outputs": [
    {
     "name": "stdout",
     "output_type": "stream",
     "text": [
      "Tes Loss: 0.31805890798568726\n",
      "Tes Akurasi: 0.9296066164970398\n"
     ]
    }
   ],
   "source": [
    "score = model.evaluate(x_test, y_test, verbose=0)\n",
    "print('Tes Loss:', score[0])\n",
    "print('Tes Akurasi:', score[1])"
   ]
  },
  {
   "cell_type": "markdown",
   "id": "10d1e918",
   "metadata": {},
   "source": [
    "Membuat visualisasi hasil akurasi dari data training dan data validasi"
   ]
  },
  {
   "cell_type": "code",
   "execution_count": 82,
   "id": "ba50405e",
   "metadata": {},
   "outputs": [
    {
     "data": {
      "image/png": "[encoded data removed]",
      "text/plain": [
       "<Figure size 500x500 with 1 Axes>"
      ]
     },
     "metadata": {},
     "output_type": "display_data"
    }
   ],
   "source": [
    "plt.figure(1, figsize=(5,5))\n",
    "plt.plot(range(len(history.history['accuracy'])),\n",
    "         history.history['accuracy'],\n",
    "         color='b',\n",
    "         label='Data Latih'\n",
    ")\n",
    "plt.plot(range(len(history.history['val_accuracy'])),\n",
    "         history.history['val_accuracy'],\n",
    "         color='r',\n",
    "         label='Data Validasi',\n",
    "         \n",
    ")\n",
    "plt.legend()\n",
    "plt.show()"
   ]
  }
 ],
 "metadata": {
  "kernelspec": {
   "display_name": "Python 3 (ipykernel)",
   "language": "python",
   "name": "python3"
  },
  "language_info": {
   "codemirror_mode": {
    "name": "ipython",
    "version": 3
   },
   "file_extension": ".py",
   "mimetype": "text/x-python",
   "name": "python",
   "nbconvert_exporter": "python",
   "pygments_lexer": "ipython3",
   "version": "3.10.7"
  }
 },
 "nbformat": 4,
 "nbformat_minor": 5
}
