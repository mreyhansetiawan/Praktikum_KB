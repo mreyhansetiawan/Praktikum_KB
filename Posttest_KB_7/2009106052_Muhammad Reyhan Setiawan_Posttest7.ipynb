{
 "cells": [
  {
   "cell_type": "markdown",
   "id": "a3a50a8d",
   "metadata": {},
   "source": [
    "# POST TEST 7 PRAKTIKUM KB"
   ]
  },
  {
   "cell_type": "markdown",
   "id": "cf96fe76",
   "metadata": {},
   "source": [
    "Nama: Muhammad Reyhan Setiawan\n",
    "\n",
    "NIM: 2009106052"
   ]
  },
  {
   "cell_type": "markdown",
   "id": "f1da1dd1",
   "metadata": {},
   "source": [
    "# TensorFlow"
   ]
  },
  {
   "cell_type": "markdown",
   "id": "57e4e799",
   "metadata": {},
   "source": [
    "# Import Library Package"
   ]
  },
  {
   "cell_type": "markdown",
   "id": "260adfc7",
   "metadata": {},
   "source": [
    "Mengimpor library tensorflow sebagai tf"
   ]
  },
  {
   "cell_type": "code",
   "execution_count": 1,
   "id": "ea5ddf8a",
   "metadata": {},
   "outputs": [],
   "source": [
    "import tensorflow as tf"
   ]
  },
  {
   "cell_type": "markdown",
   "id": "b83ea2ef",
   "metadata": {},
   "source": [
    "Membuat sebuah tensor dengan shape(5,5) dengan nilai random yang disimpan dalam variable random_tensor"
   ]
  },
  {
   "cell_type": "code",
   "execution_count": 2,
   "id": "1214c592",
   "metadata": {},
   "outputs": [
    {
     "data": {
      "text/plain": [
       "array([[ 1.2710661 ,  1.6826293 , -0.9666784 ,  0.9405035 ,  0.3940338 ],\n",
       "       [ 1.4746816 , -0.09773716,  0.3816258 , -0.23572905,  0.42174256],\n",
       "       [-0.5495523 ,  0.84736484, -0.27099293, -0.54841316, -0.7140488 ],\n",
       "       [ 0.9671229 , -1.1282684 ,  0.26312977,  0.9080789 , -1.2866917 ],\n",
       "       [ 0.7169077 , -1.0083164 ,  0.519099  ,  1.1698124 , -0.86542547]],\n",
       "      dtype=float32)"
      ]
     },
     "execution_count": 2,
     "metadata": {},
     "output_type": "execute_result"
    }
   ],
   "source": [
    "random_tensor = tf.random.normal([5, 5])\n",
    "random_tensor.numpy()"
   ]
  },
  {
   "cell_type": "markdown",
   "id": "9ca07e3a",
   "metadata": {},
   "source": [
    "Membuat sebuah tensor dengan shape(5,5) dari sebuah list dengan nilai bilangan prima dalam variable prime_tensor"
   ]
  },
  {
   "cell_type": "code",
   "execution_count": 4,
   "id": "1da05364",
   "metadata": {},
   "outputs": [
    {
     "data": {
      "text/plain": [
       "array([[ 2.,  3.,  5.,  7., 11.],\n",
       "       [13., 17., 19., 23., 29.],\n",
       "       [31., 37., 41., 43., 47.],\n",
       "       [53., 59., 61., 67., 71.],\n",
       "       [73., 79., 83., 89., 97.]], dtype=float32)"
      ]
     },
     "execution_count": 4,
     "metadata": {},
     "output_type": "execute_result"
    }
   ],
   "source": [
    "listPrime = [[2, 3, 5, 7, 11], [13, 17, 19, 23, 29], [31, 37, 41, 43, 47], [53, 59, 61, 67, 71], [73, 79, 83, 89, 97]]\n",
    "\n",
    "prime_tensor = tf.convert_to_tensor(listPrime, dtype=tf.float32)\n",
    "prime_tensor.numpy()"
   ]
  },
  {
   "cell_type": "markdown",
   "id": "95bde1a5",
   "metadata": {},
   "source": [
    "Menampilkan dimensi dari kedua variable tersebut"
   ]
  },
  {
   "cell_type": "code",
   "execution_count": 8,
   "id": "61240606",
   "metadata": {},
   "outputs": [
    {
     "name": "stdout",
     "output_type": "stream",
     "text": [
      "Dimensi random_tensor:  (5, 5)\n",
      "Dimensi prime_tensor :  (5, 5)\n"
     ]
    }
   ],
   "source": [
    "print(\"Dimensi random_tensor: \", random_tensor.shape)\n",
    "print(\"Dimensi prime_tensor : \", prime_tensor.shape)"
   ]
  },
  {
   "cell_type": "markdown",
   "id": "51a2ab03",
   "metadata": {},
   "source": [
    "Menampilkan hasil dari perhitungan aritmetika 2 variable tersebut dengan menggunakan 5 operator"
   ]
  },
  {
   "cell_type": "markdown",
   "id": "278db279",
   "metadata": {},
   "source": [
    "-tf.add() // Penjumlahan"
   ]
  },
  {
   "cell_type": "code",
   "execution_count": 10,
   "id": "e15ecb85",
   "metadata": {},
   "outputs": [
    {
     "name": "stdout",
     "output_type": "stream",
     "text": [
      "Hasil Penjumlahan: \n",
      "[[ 3.2710662  4.6826296  4.0333214  7.9405036 11.394033 ]\n",
      " [14.474682  16.902264  19.381626  22.76427   29.421743 ]\n",
      " [30.450447  37.847366  40.729008  42.451588  46.28595  ]\n",
      " [53.96712   57.87173   61.26313   67.90808   69.71331  ]\n",
      " [73.71691   77.991684  83.5191    90.169815  96.134575 ]]\n"
     ]
    }
   ],
   "source": [
    "op_add = tf.add(random_tensor, prime_tensor)\n",
    "\n",
    "print(\"Hasil Penjumlahan: \")\n",
    "print(op_add.numpy())"
   ]
  },
  {
   "cell_type": "markdown",
   "id": "139f3085",
   "metadata": {},
   "source": [
    "-tf.subtraction() // Pengurangan"
   ]
  },
  {
   "cell_type": "code",
   "execution_count": 11,
   "id": "46e6079e",
   "metadata": {},
   "outputs": [
    {
     "name": "stdout",
     "output_type": "stream",
     "text": [
      "Hasil Pengurangan: \n",
      "[[ -0.72893393  -1.3173707   -5.9666786   -6.0594964  -10.605967  ]\n",
      " [-11.525318   -17.097736   -18.618374   -23.23573    -28.578257  ]\n",
      " [-31.549553   -36.152634   -41.270992   -43.548412   -47.71405   ]\n",
      " [-52.03288    -60.12827    -60.73687    -66.09192    -72.28669   ]\n",
      " [-72.28309    -80.008316   -82.4809     -87.830185   -97.865425  ]]\n"
     ]
    }
   ],
   "source": [
    "op_subtract = tf.subtract(random_tensor, prime_tensor)\n",
    "\n",
    "print(\"Hasil Pengurangan: \")\n",
    "print(op_subtract.numpy())"
   ]
  },
  {
   "cell_type": "markdown",
   "id": "6380cfbc",
   "metadata": {},
   "source": [
    "-tf.multiply() // Perkalian"
   ]
  },
  {
   "cell_type": "code",
   "execution_count": 12,
   "id": "d581b1d5",
   "metadata": {},
   "outputs": [
    {
     "name": "stdout",
     "output_type": "stream",
     "text": [
      "Hasil Perkalian: \n",
      "[[  2.5421321   5.047888   -4.833392    6.583524    4.3343716]\n",
      " [ 19.17086    -1.6615317   7.2508903  -5.421768   12.230535 ]\n",
      " [-17.036121   31.352499  -11.11071   -23.581766  -33.560295 ]\n",
      " [ 51.257515  -66.56783    16.050917   60.841286  -91.35511  ]\n",
      " [ 52.33426   -79.657      43.085217  104.113304  -83.94627  ]]\n"
     ]
    }
   ],
   "source": [
    "op_multiply = tf.multiply(random_tensor, prime_tensor)\n",
    "\n",
    "print(\"Hasil Perkalian: \")\n",
    "print(op_multiply.numpy())"
   ]
  },
  {
   "cell_type": "markdown",
   "id": "2aca0855",
   "metadata": {},
   "source": [
    "-tf.divide() // Pembagian"
   ]
  },
  {
   "cell_type": "code",
   "execution_count": 13,
   "id": "aa8b5462",
   "metadata": {},
   "outputs": [
    {
     "name": "stdout",
     "output_type": "stream",
     "text": [
      "Hasil Pembagian: \n",
      "[[ 0.63553303  0.5608764  -0.19333568  0.13435765  0.03582126]\n",
      " [ 0.11343705 -0.00574924  0.02008557 -0.01024909  0.01454285]\n",
      " [-0.01772749  0.02290175 -0.00660958 -0.01275379 -0.01519253]\n",
      " [ 0.0182476  -0.01912319  0.0043136   0.01355342 -0.01812242]\n",
      " [ 0.00982065 -0.0127635   0.00625421  0.01314396 -0.00892191]]\n"
     ]
    }
   ],
   "source": [
    "op_divide = tf.divide(random_tensor, prime_tensor)\n",
    "\n",
    "print(\"Hasil Pembagian: \")\n",
    "print(op_divide.numpy())"
   ]
  },
  {
   "cell_type": "markdown",
   "id": "bc86596a",
   "metadata": {},
   "source": [
    "-tf.pow() // Pangkat"
   ]
  },
  {
   "cell_type": "code",
   "execution_count": 14,
   "id": "34277db7",
   "metadata": {},
   "outputs": [
    {
     "name": "stdout",
     "output_type": "stream",
     "text": [
      "Hasil Pangkat: \n",
      "[[ 1.6156089e+00  4.7639298e+00 -8.4413135e-01  6.5091282e-01\n",
      "   3.5552333e-05]\n",
      " [ 1.5598306e+02 -6.7766466e-18  1.1249076e-08 -3.6770674e-15\n",
      "   1.3377514e-11]\n",
      " [-8.7152623e-09  2.1807521e-03 -5.6399685e-24 -6.0483684e-12\n",
      "  -1.3341698e-07]\n",
      " [ 1.7003120e-01 -1.2368932e+03  4.2694236e-36  1.5641574e-03\n",
      "  -5.9250040e+07]\n",
      " [ 2.8107098e-11 -1.9237541e+00  2.3214843e-24  1.1543699e+06\n",
      "  -8.1522620e-07]]\n"
     ]
    }
   ],
   "source": [
    "op_pow = tf.pow(random_tensor, prime_tensor)\n",
    "\n",
    "print(\"Hasil Pangkat: \")\n",
    "print(op_pow.numpy())"
   ]
  },
  {
   "cell_type": "markdown",
   "id": "658e90f0",
   "metadata": {},
   "source": [
    "Menampilkan nilai maksimal dan minimal dari variable random_tensor"
   ]
  },
  {
   "cell_type": "code",
   "execution_count": 17,
   "id": "9544029b",
   "metadata": {},
   "outputs": [
    {
     "name": "stdout",
     "output_type": "stream",
     "text": [
      "[Nilai Maksimal]\n",
      "Nilai Maksimal dari variabel random tensor berdasarkan kolom:  [1 0 4 4 1]\n",
      "Nilai Maksimal dari variabel random tensor berdasarkan baris:  [1 0 1 0 3]\n",
      "\n",
      "[Nilai Minimal]\n",
      "Nilai Minimal dari variabel random tensor berdasarkan kolom :  [2 3 0 2 3]\n",
      "Nilai Minimal dari variabel random tensor berdasarkan baris :  [2 3 4 4 1]\n"
     ]
    }
   ],
   "source": [
    "max_column = tf.argmax(random_tensor,axis=0)\n",
    "max_row = tf.argmax(random_tensor,axis=1)\n",
    "min_column = tf.argmin(random_tensor,axis=0)\n",
    "min_row = tf.argmin(random_tensor,axis=1)\n",
    "\n",
    "print(\"[Nilai Maksimal]\")\n",
    "print(\"Nilai Maksimal dari variabel random tensor berdasarkan kolom: \", max_column.numpy())\n",
    "print(\"Nilai Maksimal dari variabel random tensor berdasarkan baris: \", max_row.numpy())\n",
    "print(\"\\n[Nilai Minimal]\")\n",
    "print(\"Nilai Minimal dari variabel random tensor berdasarkan kolom : \", min_column.numpy())\n",
    "print(\"Nilai Minimal dari variabel random tensor berdasarkan baris : \", min_row.numpy())"
   ]
  },
  {
   "cell_type": "markdown",
   "id": "dc00191e",
   "metadata": {},
   "source": [
    "Menampilkan hasil dari penggabungan variable random_tensor dengan prime_tensor (concatenation)"
   ]
  },
  {
   "cell_type": "code",
   "execution_count": 26,
   "id": "a9678121",
   "metadata": {},
   "outputs": [
    {
     "name": "stdout",
     "output_type": "stream",
     "text": [
      "Hasil Penggabungan variabel berdasarkan kolom:\n",
      " [[ 1.2710661   1.6826293  -0.9666784   0.9405035   0.3940338 ]\n",
      " [ 1.4746816  -0.09773716  0.3816258  -0.23572905  0.42174256]\n",
      " [-0.5495523   0.84736484 -0.27099293 -0.54841316 -0.7140488 ]\n",
      " [ 0.9671229  -1.1282684   0.26312977  0.9080789  -1.2866917 ]\n",
      " [ 0.7169077  -1.0083164   0.519099    1.1698124  -0.86542547]\n",
      " [ 2.          3.          5.          7.         11.        ]\n",
      " [13.         17.         19.         23.         29.        ]\n",
      " [31.         37.         41.         43.         47.        ]\n",
      " [53.         59.         61.         67.         71.        ]\n",
      " [73.         79.         83.         89.         97.        ]]\n",
      "\n",
      "Hasil Penggabungan variabel berdasarkan baris:\n",
      "  [[ 1.2710661   1.6826293  -0.9666784   0.9405035   0.3940338 ]\n",
      " [ 1.4746816  -0.09773716  0.3816258  -0.23572905  0.42174256]\n",
      " [-0.5495523   0.84736484 -0.27099293 -0.54841316 -0.7140488 ]\n",
      " [ 0.9671229  -1.1282684   0.26312977  0.9080789  -1.2866917 ]\n",
      " [ 0.7169077  -1.0083164   0.519099    1.1698124  -0.86542547]\n",
      " [ 2.          3.          5.          7.         11.        ]\n",
      " [13.         17.         19.         23.         29.        ]\n",
      " [31.         37.         41.         43.         47.        ]\n",
      " [53.         59.         61.         67.         71.        ]\n",
      " [73.         79.         83.         89.         97.        ]]\n"
     ]
    }
   ],
   "source": [
    "concat_column = tf.concat([random_tensor, prime_tensor], axis=0)\n",
    "concat_row = tf.concat([random_tensor, prime_tensor], axis=0)\n",
    "\n",
    "print(\"Hasil Penggabungan variabel berdasarkan kolom:\\n\", concat_column.numpy())\n",
    "print(\"\\nHasil Penggabungan variabel berdasarkan baris:\\n \", concat_row.numpy())"
   ]
  },
  {
   "cell_type": "markdown",
   "id": "cc2c646d",
   "metadata": {},
   "source": [
    "Menampilkan hasil sorting dari kedua variable di atas secara descending"
   ]
  },
  {
   "cell_type": "code",
   "execution_count": 28,
   "id": "8bdf5a73",
   "metadata": {},
   "outputs": [
    {
     "name": "stdout",
     "output_type": "stream",
     "text": [
      "Hasil sorting pada variabel random_tensor: \n",
      "[[ 1.6826293   1.2710661   0.9405035   0.3940338  -0.9666784 ]\n",
      " [ 1.4746816   0.42174256  0.3816258  -0.09773716 -0.23572905]\n",
      " [ 0.84736484 -0.27099293 -0.54841316 -0.5495523  -0.7140488 ]\n",
      " [ 0.9671229   0.9080789   0.26312977 -1.1282684  -1.2866917 ]\n",
      " [ 1.1698124   0.7169077   0.519099   -0.86542547 -1.0083164 ]]\n",
      "\n",
      "Hasil sorting pada variabel prime_tensor : \n",
      "[[11.  7.  5.  3.  2.]\n",
      " [29. 23. 19. 17. 13.]\n",
      " [47. 43. 41. 37. 31.]\n",
      " [71. 67. 61. 59. 53.]\n",
      " [97. 89. 83. 79. 73.]]\n"
     ]
    }
   ],
   "source": [
    "sort_random = tf.sort(random_tensor, direction=\"DESCENDING\")\n",
    "sort_prime = tf.sort(prime_tensor, direction=\"DESCENDING\")\n",
    "\n",
    "print(\"Hasil sorting pada variabel random_tensor: \")\n",
    "print(sort_random.numpy())\n",
    "print(\"\\nHasil sorting pada variabel prime_tensor : \")\n",
    "print(sort_prime.numpy())"
   ]
  }
 ],
 "metadata": {
  "kernelspec": {
   "display_name": "Python 3 (ipykernel)",
   "language": "python",
   "name": "python3"
  },
  "language_info": {
   "codemirror_mode": {
    "name": "ipython",
    "version": 3
   },
   "file_extension": ".py",
   "mimetype": "text/x-python",
   "name": "python",
   "nbconvert_exporter": "python",
   "pygments_lexer": "ipython3",
   "version": "3.10.7"
  }
 },
 "nbformat": 4,
 "nbformat_minor": 5
}
